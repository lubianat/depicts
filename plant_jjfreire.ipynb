{
 "cells": [
  {
   "cell_type": "code",
   "execution_count": 1,
   "metadata": {},
   "outputs": [],
   "source": [
    "from wikidata2df import wikidata2df\n",
    "import pandas as pd\n",
    "\n",
    "query = \"\"\"\n",
    "SELECT ?item ?itemLabel \n",
    "WHERE \n",
    "{\n",
    "  ?item wdt:P180 wd:Q10301381. # depicts scientific illustration\n",
    "  ?item wdt:P180 wd:Q441. # depicts botany\n",
    "  ?item wdt:P170 wd:Q53500837. # creator is José Joaquim Freire \n",
    "  SERVICE wikibase:label { bd:serviceParam wikibase:language \"[AUTO_LANGUAGE],en\". }\n",
    "}\n",
    "\"\"\"\n",
    "\n",
    "df = wikidata2df(query) # Returns a Pandas DataFrame"
   ]
  },
  {
   "cell_type": "code",
   "execution_count": 4,
   "metadata": {},
   "outputs": [
    {
     "data": {
      "text/html": [
       "<div>\n",
       "<style scoped>\n",
       "    .dataframe tbody tr th:only-of-type {\n",
       "        vertical-align: middle;\n",
       "    }\n",
       "\n",
       "    .dataframe tbody tr th {\n",
       "        vertical-align: top;\n",
       "    }\n",
       "\n",
       "    .dataframe thead th {\n",
       "        text-align: right;\n",
       "    }\n",
       "</style>\n",
       "<table border=\"1\" class=\"dataframe\">\n",
       "  <thead>\n",
       "    <tr style=\"text-align: right;\">\n",
       "      <th></th>\n",
       "      <th>itemLabel</th>\n",
       "      <th>item</th>\n",
       "    </tr>\n",
       "  </thead>\n",
       "  <tbody>\n",
       "    <tr>\n",
       "      <th>0</th>\n",
       "      <td>Bocagea del Alphonsea</td>\n",
       "      <td>Q59824645</td>\n",
       "    </tr>\n",
       "    <tr>\n",
       "      <th>1</th>\n",
       "      <td>Bomarca salsibloides</td>\n",
       "      <td>Q59824646</td>\n",
       "    </tr>\n",
       "    <tr>\n",
       "      <th>2</th>\n",
       "      <td>Bredemeyera</td>\n",
       "      <td>Q59824649</td>\n",
       "    </tr>\n",
       "    <tr>\n",
       "      <th>3</th>\n",
       "      <td>Büttneria</td>\n",
       "      <td>Q59824651</td>\n",
       "    </tr>\n",
       "    <tr>\n",
       "      <th>4</th>\n",
       "      <td>Byrsonima</td>\n",
       "      <td>Q59824652</td>\n",
       "    </tr>\n",
       "    <tr>\n",
       "      <th>...</th>\n",
       "      <td>...</td>\n",
       "      <td>...</td>\n",
       "    </tr>\n",
       "    <tr>\n",
       "      <th>382</th>\n",
       "      <td>Rubiaceae</td>\n",
       "      <td>Q59825242</td>\n",
       "    </tr>\n",
       "    <tr>\n",
       "      <th>383</th>\n",
       "      <td>Rubiaceae</td>\n",
       "      <td>Q59825243</td>\n",
       "    </tr>\n",
       "    <tr>\n",
       "      <th>384</th>\n",
       "      <td>Rubiaceae</td>\n",
       "      <td>Q59825245</td>\n",
       "    </tr>\n",
       "    <tr>\n",
       "      <th>385</th>\n",
       "      <td>Rubiaceae</td>\n",
       "      <td>Q59825246</td>\n",
       "    </tr>\n",
       "    <tr>\n",
       "      <th>386</th>\n",
       "      <td>Rubiaceae</td>\n",
       "      <td>Q59825249</td>\n",
       "    </tr>\n",
       "  </tbody>\n",
       "</table>\n",
       "<p>387 rows × 2 columns</p>\n",
       "</div>"
      ],
      "text/plain": [
       "                 itemLabel       item\n",
       "0    Bocagea del Alphonsea  Q59824645\n",
       "1     Bomarca salsibloides  Q59824646\n",
       "2              Bredemeyera  Q59824649\n",
       "3                Büttneria  Q59824651\n",
       "4                Byrsonima  Q59824652\n",
       "..                     ...        ...\n",
       "382              Rubiaceae  Q59825242\n",
       "383              Rubiaceae  Q59825243\n",
       "384              Rubiaceae  Q59825245\n",
       "385              Rubiaceae  Q59825246\n",
       "386              Rubiaceae  Q59825249\n",
       "\n",
       "[387 rows x 2 columns]"
      ]
     },
     "execution_count": 4,
     "metadata": {},
     "output_type": "execute_result"
    }
   ],
   "source": [
    "df[\"itemLabel\"] = [t.replace(\"(\",\"\") for t in df[\"itemLabel\"]]\n",
    "df[\"itemLabel\"] = [t.replace(\")\",\"\") for t in df[\"itemLabel\"]]\n",
    "df"
   ]
  },
  {
   "cell_type": "code",
   "execution_count": 5,
   "metadata": {},
   "outputs": [
    {
     "name": "stderr",
     "output_type": "stream",
     "text": [
      "100%|██████████| 1/1 [00:04<00:00,  4.73s/it]\n",
      "  0%|          | 0/1 [00:01<?, ?it/s]\n",
      "  0%|          | 0/1 [00:01<?, ?it/s]\n",
      "100%|██████████| 1/1 [00:03<00:00,  3.02s/it]\n",
      "  0%|          | 0/1 [00:00<?, ?it/s]"
     ]
    },
    {
     "name": "stdout",
     "output_type": "stream",
     "text": [
      "         id  match         name  score   type type_id  input_value\n",
      "0  Q8251823   True  Bredemeyera  100.0  taxon  Q16521  Bredemeyera\n"
     ]
    },
    {
     "name": "stderr",
     "output_type": "stream",
     "text": [
      "100%|██████████| 1/1 [00:01<00:00,  1.61s/it]\n",
      "  0%|          | 0/1 [00:00<?, ?it/s]"
     ]
    },
    {
     "name": "stdout",
     "output_type": "stream",
     "text": [
      "         id  match     name  score   type type_id input_value\n",
      "0  Q3300065   True  Casasia  100.0  taxon  Q16521   Büttneria\n"
     ]
    },
    {
     "name": "stderr",
     "output_type": "stream",
     "text": [
      "100%|██████████| 1/1 [00:03<00:00,  3.36s/it]\n",
      "  0%|          | 0/1 [00:00<?, ?it/s]"
     ]
    },
    {
     "name": "stdout",
     "output_type": "stream",
     "text": [
      "         id  match       name  score   type type_id input_value\n",
      "0  Q3279490   True  Byrsonima  100.0  taxon  Q16521   Byrsonima\n"
     ]
    },
    {
     "name": "stderr",
     "output_type": "stream",
     "text": [
      "100%|██████████| 1/1 [00:03<00:00,  3.23s/it]\n",
      "100%|██████████| 1/1 [00:00<00:00, 156.43it/s]\n",
      "100%|██████████| 1/1 [00:00<00:00, 79.31it/s]\n",
      "  0%|          | 0/1 [00:00<?, ?it/s]"
     ]
    },
    {
     "name": "stdout",
     "output_type": "stream",
     "text": [
      "         id  match      name  score   type type_id input_value\n",
      "0  Q1650700   True  Calathea  100.0  taxon  Q16521    Calathea\n",
      "         id  match      name  score   type type_id input_value\n",
      "0  Q1650700   True  Calathea  100.0  taxon  Q16521    Calathea\n",
      "         id  match      name  score   type type_id input_value\n",
      "0  Q1650700   True  Calathea  100.0  taxon  Q16521    Calathea\n"
     ]
    },
    {
     "name": "stderr",
     "output_type": "stream",
     "text": [
      "  0%|          | 0/1 [00:01<?, ?it/s]\n",
      "100%|██████████| 1/1 [00:03<00:00,  3.79s/it]\n",
      "  0%|          | 0/1 [00:00<?, ?it/s]"
     ]
    },
    {
     "name": "stdout",
     "output_type": "stream",
     "text": [
      "         id  match                     name  score   type type_id  \\\n",
      "0  Q2934367   True  Calophyllum brasiliense  100.0  taxon  Q16521   \n",
      "\n",
      "               input_value  \n",
      "0  Calophyllum brasiliense  \n"
     ]
    },
    {
     "name": "stderr",
     "output_type": "stream",
     "text": [
      "  0%|          | 0/1 [00:01<?, ?it/s]\n",
      "  0%|          | 0/1 [00:01<?, ?it/s]\n",
      "100%|██████████| 1/1 [00:04<00:00,  4.08s/it]\n",
      "  0%|          | 0/1 [00:00<?, ?it/s]"
     ]
    },
    {
     "name": "stdout",
     "output_type": "stream",
     "text": [
      "        id  match   name  score   type type_id input_value\n",
      "0  Q161182   True  Canna  100.0  taxon  Q16521       Canna\n"
     ]
    },
    {
     "name": "stderr",
     "output_type": "stream",
     "text": [
      "100%|██████████| 1/1 [00:03<00:00,  3.33s/it]\n",
      "  0%|          | 0/1 [00:00<?, ?it/s]"
     ]
    },
    {
     "name": "stdout",
     "output_type": "stream",
     "text": [
      "          id  match       name  score      type type_id        input_value\n",
      "0  Q97929135  False  Tokyo Hot   69.0  cultivar   Q4886  Capsicum annuum L\n"
     ]
    },
    {
     "name": "stderr",
     "output_type": "stream",
     "text": [
      "100%|██████████| 1/1 [00:03<00:00,  3.83s/it]\n",
      "100%|██████████| 1/1 [00:00<00:00, 93.92it/s]\n",
      "  0%|          | 0/1 [00:00<?, ?it/s]"
     ]
    },
    {
     "name": "stdout",
     "output_type": "stream",
     "text": [
      "        id  match      name  score   type type_id input_value\n",
      "0  Q201959   True  Capsicum  100.0  taxon  Q16521    Capsicum\n",
      "        id  match      name  score   type type_id input_value\n",
      "0  Q201959   True  Capsicum  100.0  taxon  Q16521    Capsicum\n"
     ]
    },
    {
     "name": "stderr",
     "output_type": "stream",
     "text": [
      "  0%|          | 0/1 [00:01<?, ?it/s]\n",
      "100%|██████████| 1/1 [00:03<00:00,  3.49s/it]\n",
      "100%|██████████| 1/1 [00:00<00:00, 162.70it/s]\n",
      "  0%|          | 0/1 [00:00<?, ?it/s]"
     ]
    },
    {
     "name": "stdout",
     "output_type": "stream",
     "text": [
      "        id  match      name  score   type type_id input_value\n",
      "0  Q311083   True  Caryocar  100.0  taxon  Q16521    Caryocar\n",
      "        id  match      name  score   type type_id input_value\n",
      "0  Q311083   True  Caryocar  100.0  taxon  Q16521    Caryocar\n"
     ]
    },
    {
     "name": "stderr",
     "output_type": "stream",
     "text": [
      "100%|██████████| 1/1 [00:02<00:00,  2.19s/it]\n",
      "  0%|          | 0/1 [00:00<?, ?it/s]"
     ]
    },
    {
     "name": "stdout",
     "output_type": "stream",
     "text": [
      "        id  match             name  score   type type_id input_value\n",
      "0  Q135671   True  Croton eluteria  100.0  taxon  Q16521  Cascarilla\n"
     ]
    },
    {
     "name": "stderr",
     "output_type": "stream",
     "text": [
      "  0%|          | 0/1 [00:01<?, ?it/s]\n",
      "100%|██████████| 1/1 [00:01<00:00,  1.44s/it]\n",
      "  0%|          | 0/1 [00:00<?, ?it/s]"
     ]
    },
    {
     "name": "stdout",
     "output_type": "stream",
     "text": [
      "          id  match                 name  score   type type_id  \\\n",
      "0  Q15399290   True  Casearia javitensis  100.0  taxon  Q16521   \n",
      "\n",
      "           input_value  \n",
      "0  Casearia javitensis  \n"
     ]
    },
    {
     "name": "stderr",
     "output_type": "stream",
     "text": [
      "  0%|          | 0/1 [00:01<?, ?it/s]\n",
      "100%|██████████| 1/1 [00:03<00:00,  3.06s/it]\n",
      "  0%|          | 0/1 [00:00<?, ?it/s]"
     ]
    },
    {
     "name": "stdout",
     "output_type": "stream",
     "text": [
      "        id  match      name  score   type type_id input_value\n",
      "0  Q537066   True  Casearia  100.0  taxon  Q16521    Casearia\n"
     ]
    },
    {
     "name": "stderr",
     "output_type": "stream",
     "text": [
      "100%|██████████| 1/1 [00:02<00:00,  2.06s/it]\n",
      "  0%|          | 0/1 [00:00<?, ?it/s]"
     ]
    },
    {
     "name": "stdout",
     "output_type": "stream",
     "text": [
      "        id  match           name  score   type type_id          input_value\n",
      "0  Q148532  False  Mimosa pudica   63.0  taxon  Q16521  Cassia chamaecrista\n"
     ]
    },
    {
     "name": "stderr",
     "output_type": "stream",
     "text": [
      "100%|██████████| 1/1 [00:01<00:00,  1.46s/it]\n",
      "  0%|          | 0/1 [00:00<?, ?it/s]"
     ]
    },
    {
     "name": "stdout",
     "output_type": "stream",
     "text": [
      "          id  match                name  score   type type_id  \\\n",
      "0  Q10279910   True  Cassia leptophylla  100.0  taxon  Q16521   \n",
      "\n",
      "          input_value  \n",
      "0  Cassia leptophylla  \n"
     ]
    },
    {
     "name": "stderr",
     "output_type": "stream",
     "text": [
      "100%|██████████| 1/1 [00:03<00:00,  3.11s/it]\n",
      "  0%|          | 0/1 [00:00<?, ?it/s]"
     ]
    },
    {
     "name": "stdout",
     "output_type": "stream",
     "text": [
      "        id  match    name  score   type type_id input_value\n",
      "0  Q162882  False  Cassia  100.0  taxon  Q16521      Cassia\n"
     ]
    },
    {
     "name": "stderr",
     "output_type": "stream",
     "text": [
      "  0%|          | 0/1 [00:01<?, ?it/s]\n",
      "  0%|          | 0/1 [00:01<?, ?it/s]\n",
      "  0%|          | 0/1 [00:01<?, ?it/s]\n",
      "  0%|          | 0/1 [00:01<?, ?it/s]\n",
      "100%|██████████| 1/1 [00:02<00:00,  2.52s/it]\n",
      "  0%|          | 0/1 [00:00<?, ?it/s]"
     ]
    },
    {
     "name": "stdout",
     "output_type": "stream",
     "text": [
      "         id  match          name  score   type type_id   input_value\n",
      "0  Q5062982   True  Centrolobium  100.0  taxon  Q16521  Centrolobium\n"
     ]
    },
    {
     "name": "stderr",
     "output_type": "stream",
     "text": [
      "  0%|          | 0/1 [00:01<?, ?it/s]\n",
      "  0%|          | 0/1 [00:01<?, ?it/s]\n",
      "  0%|          | 0/1 [00:01<?, ?it/s]\n",
      "  0%|          | 0/1 [00:01<?, ?it/s]\n",
      "100%|██████████| 1/1 [00:03<00:00,  3.30s/it]\n",
      "  0%|          | 0/1 [00:00<?, ?it/s]"
     ]
    },
    {
     "name": "stdout",
     "output_type": "stream",
     "text": [
      "         id  match           name  score   type type_id    input_value\n",
      "0  Q2105812   True  Chrysophyllum  100.0  taxon  Q16521  Chrysophyllum\n"
     ]
    },
    {
     "name": "stderr",
     "output_type": "stream",
     "text": [
      "100%|██████████| 1/1 [00:03<00:00,  3.14s/it]\n",
      "  0%|          | 0/1 [00:00<?, ?it/s]"
     ]
    },
    {
     "name": "stdout",
     "output_type": "stream",
     "text": [
      "          id  match    name  score   type type_id input_value\n",
      "0  Q16544561  False  Cipoia   80.0  taxon  Q16521        Cipó\n"
     ]
    },
    {
     "name": "stderr",
     "output_type": "stream",
     "text": [
      "  0%|          | 0/1 [00:01<?, ?it/s]\n",
      "100%|██████████| 1/1 [00:02<00:00,  2.57s/it]\n",
      "  0%|          | 0/1 [00:00<?, ?it/s]"
     ]
    },
    {
     "name": "stdout",
     "output_type": "stream",
     "text": [
      "        id  match           name  score   type type_id input_value\n",
      "0  Q237046  False  Sparus aurata  100.0  taxon  Q16521      Cipura\n"
     ]
    },
    {
     "name": "stderr",
     "output_type": "stream",
     "text": [
      "100%|██████████| 1/1 [00:03<00:00,  3.32s/it]\n",
      "  0%|          | 0/1 [00:00<?, ?it/s]"
     ]
    },
    {
     "name": "stdout",
     "output_type": "stream",
     "text": [
      "         id  match                 name  score   type type_id  \\\n",
      "0  Q3291604   True  Cissampelos pareira  100.0  taxon  Q16521   \n",
      "\n",
      "           input_value  \n",
      "0  Cissampelos Pareira  \n"
     ]
    },
    {
     "name": "stderr",
     "output_type": "stream",
     "text": [
      "  0%|          | 0/1 [00:01<?, ?it/s]\n",
      "  0%|          | 0/1 [00:01<?, ?it/s]\n",
      "  0%|          | 0/1 [00:01<?, ?it/s]\n",
      "100%|██████████| 1/1 [00:01<00:00,  1.74s/it]\n",
      "  0%|          | 0/1 [00:00<?, ?it/s]"
     ]
    },
    {
     "name": "stdout",
     "output_type": "stream",
     "text": [
      "         id  match      name  score   type type_id input_value\n",
      "0  Q8346959   True  Clonodia  100.0  taxon  Q16521    Clonodia\n"
     ]
    },
    {
     "name": "stderr",
     "output_type": "stream",
     "text": [
      "  0%|          | 0/1 [00:01<?, ?it/s]\n",
      "  0%|          | 0/1 [00:02<?, ?it/s]\n",
      "  0%|          | 0/1 [00:01<?, ?it/s]\n",
      "  0%|          | 0/1 [00:01<?, ?it/s]\n",
      "  0%|          | 0/1 [00:01<?, ?it/s]\n",
      "  0%|          | 0/1 [00:01<?, ?it/s]\n",
      "100%|██████████| 1/1 [00:03<00:00,  3.39s/it]\n",
      "100%|██████████| 1/1 [00:00<00:00, 69.30it/s]\n",
      "100%|██████████| 1/1 [00:00<00:00, 153.18it/s]\n",
      "  0%|          | 0/1 [00:00<?, ?it/s]"
     ]
    },
    {
     "name": "stdout",
     "output_type": "stream",
     "text": [
      "       id  match        name  score   type type_id input_value\n",
      "0  Q25400  False  Asteraceae  100.0  taxon  Q16521  Compositae\n",
      "       id  match        name  score   type type_id input_value\n",
      "0  Q25400  False  Asteraceae  100.0  taxon  Q16521  Compositae\n",
      "       id  match        name  score   type type_id input_value\n",
      "0  Q25400  False  Asteraceae  100.0  taxon  Q16521  Compositae\n"
     ]
    },
    {
     "name": "stderr",
     "output_type": "stream",
     "text": [
      "  0%|          | 0/1 [00:01<?, ?it/s]\n",
      "  0%|          | 0/1 [00:01<?, ?it/s]\n",
      "  0%|          | 0/1 [00:00<?, ?it/s]\n",
      "100%|██████████| 1/1 [00:02<00:00,  2.86s/it]\n",
      "  0%|          | 0/1 [00:00<?, ?it/s]"
     ]
    },
    {
     "name": "stdout",
     "output_type": "stream",
     "text": [
      "         id  match      name  score   type type_id input_value\n",
      "0  Q8349884   True  Connarus  100.0  taxon  Q16521    Connarus\n"
     ]
    },
    {
     "name": "stderr",
     "output_type": "stream",
     "text": [
      "100%|██████████| 1/1 [00:01<00:00,  1.93s/it]\n",
      "100%|██████████| 1/1 [00:00<00:00, 159.26it/s]\n",
      "  0%|          | 0/1 [00:00<?, ?it/s]"
     ]
    },
    {
     "name": "stdout",
     "output_type": "stream",
     "text": [
      "         id  match        name  score   type type_id input_value\n",
      "0  Q8352811  False  Cybianthus  100.0  taxon  Q16521  Conomorpha\n",
      "         id  match        name  score   type type_id input_value\n",
      "0  Q8352811  False  Cybianthus  100.0  taxon  Q16521  Conomorpha\n"
     ]
    },
    {
     "name": "stderr",
     "output_type": "stream",
     "text": [
      "100%|██████████| 1/1 [00:03<00:00,  3.44s/it]\n",
      "  0%|          | 0/1 [00:00<?, ?it/s]"
     ]
    },
    {
     "name": "stdout",
     "output_type": "stream",
     "text": [
      "        id  match       name  score   type type_id input_value\n",
      "0  Q134428   True  Copaifera  100.0  taxon  Q16521   Copaifera\n"
     ]
    },
    {
     "name": "stderr",
     "output_type": "stream",
     "text": [
      "100%|██████████| 1/1 [00:03<00:00,  3.08s/it]\n",
      "100%|██████████| 1/1 [00:00<00:00, 129.18it/s]\n",
      "  0%|          | 0/1 [00:00<?, ?it/s]"
     ]
    },
    {
     "name": "stdout",
     "output_type": "stream",
     "text": [
      "        id  match    name  score   type type_id input_value\n",
      "0  Q716132  False  Cordia  100.0  taxon  Q16521      Cordia\n",
      "        id  match    name  score   type type_id input_value\n",
      "0  Q716132  False  Cordia  100.0  taxon  Q16521      Cordia\n"
     ]
    },
    {
     "name": "stderr",
     "output_type": "stream",
     "text": [
      "100%|██████████| 1/1 [00:03<00:00,  3.19s/it]\n",
      "  0%|          | 0/1 [00:00<?, ?it/s]"
     ]
    },
    {
     "name": "stdout",
     "output_type": "stream",
     "text": [
      "        id  match    name  score   type type_id input_value\n",
      "0  Q133082   True  Costus  100.0  taxon  Q16521      Costus\n"
     ]
    },
    {
     "name": "stderr",
     "output_type": "stream",
     "text": [
      "100%|██████████| 1/1 [00:03<00:00,  3.46s/it]\n",
      "  0%|          | 0/1 [00:00<?, ?it/s]"
     ]
    },
    {
     "name": "stdout",
     "output_type": "stream",
     "text": [
      "         id  match     name  score   type type_id input_value\n",
      "0  Q2714088   True  Couepia  100.0  taxon  Q16521     Couepia\n"
     ]
    },
    {
     "name": "stderr",
     "output_type": "stream",
     "text": [
      "100%|██████████| 1/1 [00:03<00:00,  3.14s/it]\n",
      "  0%|          | 0/1 [00:00<?, ?it/s]"
     ]
    },
    {
     "name": "stdout",
     "output_type": "stream",
     "text": [
      "        id  match        name  score   type type_id input_value\n",
      "0  Q159309   True  Couroupita  100.0  taxon  Q16521  Couroupita\n"
     ]
    },
    {
     "name": "stderr",
     "output_type": "stream",
     "text": [
      "  0%|          | 0/1 [00:01<?, ?it/s]\n",
      "  0%|          | 0/1 [00:01<?, ?it/s]\n",
      "  0%|          | 0/1 [00:02<?, ?it/s]\n",
      "  0%|          | 0/1 [00:01<?, ?it/s]\n",
      "100%|██████████| 1/1 [00:02<00:00,  2.66s/it]\n",
      "  0%|          | 0/1 [00:00<?, ?it/s]"
     ]
    },
    {
     "name": "stdout",
     "output_type": "stream",
     "text": [
      "        id  match               name  score   type type_id        input_value\n",
      "0  Q214542   True  Crescentia cujete  100.0  taxon  Q16521  Crescentia cujete\n"
     ]
    },
    {
     "name": "stderr",
     "output_type": "stream",
     "text": [
      "  0%|          | 0/1 [00:01<?, ?it/s]\n",
      "100%|██████████| 1/1 [00:01<00:00,  1.64s/it]\n",
      "  0%|          | 0/1 [00:00<?, ?it/s]"
     ]
    },
    {
     "name": "stdout",
     "output_type": "stream",
     "text": [
      "          id  match                   name  score   type type_id  \\\n",
      "0  Q50839468   True  Crotalaria pterocaula  100.0  taxon  Q16521   \n",
      "\n",
      "             input_value  \n",
      "0  Crotalaria pterocaula  \n"
     ]
    },
    {
     "name": "stderr",
     "output_type": "stream",
     "text": [
      "100%|██████████| 1/1 [00:03<00:00,  3.03s/it]\n",
      "100%|██████████| 1/1 [00:00<00:00, 202.74it/s]\n",
      "  0%|          | 0/1 [00:00<?, ?it/s]"
     ]
    },
    {
     "name": "stdout",
     "output_type": "stream",
     "text": [
      "        id  match    name  score   type type_id input_value\n",
      "0  Q519802   True  Croton  100.0  taxon  Q16521      Croton\n",
      "        id  match    name  score   type type_id input_value\n",
      "0  Q519802   True  Croton  100.0  taxon  Q16521      Croton\n"
     ]
    },
    {
     "name": "stderr",
     "output_type": "stream",
     "text": [
      "  0%|          | 0/1 [00:01<?, ?it/s]\n",
      "100%|██████████| 1/1 [00:06<00:00,  6.25s/it]\n",
      "  0%|          | 0/1 [00:00<?, ?it/s]"
     ]
    },
    {
     "name": "stdout",
     "output_type": "stream",
     "text": [
      "         id  match    name  score   type type_id input_value\n",
      "0  Q1795637   True  Cuphea  100.0  taxon  Q16521      Cuphea\n"
     ]
    },
    {
     "name": "stderr",
     "output_type": "stream",
     "text": [
      "100%|██████████| 1/1 [00:01<00:00,  1.73s/it]\n",
      "  0%|          | 0/1 [00:00<?, ?it/s]"
     ]
    },
    {
     "name": "stdout",
     "output_type": "stream",
     "text": [
      "         id  match             name  score type input_value\n",
      "0  Q3707475  False  diga di Curnera   32.0   []     Curnera\n"
     ]
    },
    {
     "name": "stderr",
     "output_type": "stream",
     "text": [
      "100%|██████████| 1/1 [00:01<00:00,  1.90s/it]\n",
      "  0%|          | 0/1 [00:00<?, ?it/s]"
     ]
    },
    {
     "name": "stdout",
     "output_type": "stream",
     "text": [
      "         id  match         name  score   type type_id  input_value\n",
      "0  Q5198737   True  Cyclolobium  100.0  taxon  Q16521  Cyclolobium\n"
     ]
    },
    {
     "name": "stderr",
     "output_type": "stream",
     "text": [
      "  0%|          | 0/1 [00:01<?, ?it/s]\n",
      "100%|██████████| 1/1 [00:02<00:00,  2.78s/it]\n",
      "  0%|          | 0/1 [00:00<?, ?it/s]"
     ]
    },
    {
     "name": "stdout",
     "output_type": "stream",
     "text": [
      "        id  match     name  score   type type_id input_value\n",
      "0  Q813606   True  Cypella  100.0  taxon  Q16521     Cypella\n"
     ]
    },
    {
     "name": "stderr",
     "output_type": "stream",
     "text": [
      "100%|██████████| 1/1 [00:03<00:00,  3.15s/it]\n",
      "  0%|          | 0/1 [00:00<?, ?it/s]"
     ]
    },
    {
     "name": "stdout",
     "output_type": "stream",
     "text": [
      "        id  match        name  score   type type_id input_value\n",
      "0  Q155843   True  Cyperaceae  100.0  taxon  Q16521  Cyperaceae\n"
     ]
    },
    {
     "name": "stderr",
     "output_type": "stream",
     "text": [
      "100%|██████████| 1/1 [00:01<00:00,  1.50s/it]\n",
      "  0%|          | 0/1 [00:00<?, ?it/s]"
     ]
    },
    {
     "name": "stdout",
     "output_type": "stream",
     "text": [
      "        id  match        name  score   type type_id input_value\n",
      "0  Q155843  False  Cyperaceae   95.0  taxon  Q16521   Cyperacea\n"
     ]
    },
    {
     "name": "stderr",
     "output_type": "stream",
     "text": [
      "100%|██████████| 1/1 [00:03<00:00,  3.30s/it]\n",
      "  0%|          | 0/1 [00:00<?, ?it/s]"
     ]
    },
    {
     "name": "stdout",
     "output_type": "stream",
     "text": [
      "         id  match       name  score   type type_id input_value\n",
      "0  Q1370281   True  Dalbergia  100.0  taxon  Q16521   Dalbergia\n"
     ]
    },
    {
     "name": "stderr",
     "output_type": "stream",
     "text": [
      "100%|██████████| 1/1 [00:01<00:00,  1.52s/it]\n",
      "  0%|          | 0/1 [00:00<?, ?it/s]"
     ]
    },
    {
     "name": "stdout",
     "output_type": "stream",
     "text": [
      "          id  match            name  score   type type_id     input_value\n",
      "0  Q49523301   True  Davilla lucida  100.0  taxon  Q16521  Davilla lucida\n"
     ]
    },
    {
     "name": "stderr",
     "output_type": "stream",
     "text": [
      "100%|██████████| 1/1 [00:03<00:00,  3.21s/it]\n",
      "100%|██████████| 1/1 [00:00<00:00, 176.55it/s]\n",
      "  0%|          | 0/1 [00:00<?, ?it/s]"
     ]
    },
    {
     "name": "stdout",
     "output_type": "stream",
     "text": [
      "        id  match       name  score   type type_id input_value\n",
      "0  Q258623   True  Desmodium  100.0  taxon  Q16521   Desmodium\n",
      "        id  match       name  score   type type_id input_value\n",
      "0  Q258623   True  Desmodium  100.0  taxon  Q16521   Desmodium\n"
     ]
    },
    {
     "name": "stderr",
     "output_type": "stream",
     "text": [
      "100%|██████████| 1/1 [00:02<00:00,  2.90s/it]\n",
      "  0%|          | 0/1 [00:00<?, ?it/s]"
     ]
    },
    {
     "name": "stdout",
     "output_type": "stream",
     "text": [
      "         id  match           name  score   type type_id    input_value\n",
      "0  Q2272109   True  Dichorisandra  100.0  taxon  Q16521  Dichorisandra\n"
     ]
    },
    {
     "name": "stderr",
     "output_type": "stream",
     "text": [
      "  0%|          | 0/1 [00:01<?, ?it/s]\n",
      "100%|██████████| 1/1 [00:03<00:00,  3.24s/it]\n",
      "  0%|          | 0/1 [00:00<?, ?it/s]"
     ]
    },
    {
     "name": "stdout",
     "output_type": "stream",
     "text": [
      "          id  match         name  score   type type_id  input_value\n",
      "0  Q21220172   True  Dictyophora  100.0  taxon  Q16521  Dictyophora\n"
     ]
    },
    {
     "name": "stderr",
     "output_type": "stream",
     "text": [
      "  0%|          | 0/1 [00:01<?, ?it/s]\n",
      "  0%|          | 0/1 [00:01<?, ?it/s]\n",
      "  0%|          | 0/1 [00:01<?, ?it/s]\n",
      "100%|██████████| 1/1 [00:03<00:00,  3.06s/it]\n",
      "  0%|          | 0/1 [00:00<?, ?it/s]"
     ]
    },
    {
     "name": "stdout",
     "output_type": "stream",
     "text": [
      "        id  match      name  score   type type_id input_value\n",
      "0  Q526727   True  Dolichos  100.0  taxon  Q16521    Dolichos\n"
     ]
    },
    {
     "name": "stderr",
     "output_type": "stream",
     "text": [
      "  0%|          | 0/1 [00:01<?, ?it/s]\n",
      "100%|██████████| 1/1 [00:03<00:00,  3.07s/it]\n",
      "  0%|          | 0/1 [00:00<?, ?it/s]"
     ]
    },
    {
     "name": "stdout",
     "output_type": "stream",
     "text": [
      "         id  match        name  score   type type_id input_value\n",
      "0  Q2144596   True  Eichhornia  100.0  taxon  Q16521  Eichhornia\n"
     ]
    },
    {
     "name": "stderr",
     "output_type": "stream",
     "text": [
      "100%|██████████| 1/1 [00:03<00:00,  3.08s/it]\n",
      "  0%|          | 0/1 [00:00<?, ?it/s]"
     ]
    },
    {
     "name": "stdout",
     "output_type": "stream",
     "text": [
      "         id  match          name  score   type type_id   input_value\n",
      "0  Q5359423   True  Elephantopus  100.0  taxon  Q16521  Elephantopus\n"
     ]
    },
    {
     "name": "stderr",
     "output_type": "stream",
     "text": [
      "  0%|          | 0/1 [00:01<?, ?it/s]\n",
      "100%|██████████| 1/1 [00:02<00:00,  2.96s/it]\n",
      "  0%|          | 0/1 [00:00<?, ?it/s]"
     ]
    },
    {
     "name": "stdout",
     "output_type": "stream",
     "text": [
      "         id  match     name  score   type type_id input_value\n",
      "0  Q2573318   True  Episcia  100.0  taxon  Q16521     Episcia\n"
     ]
    },
    {
     "name": "stderr",
     "output_type": "stream",
     "text": [
      "100%|██████████| 1/1 [00:02<00:00,  2.75s/it]\n",
      "100%|██████████| 1/1 [00:00<00:00, 108.33it/s]\n",
      "100%|██████████| 1/1 [00:00<00:00, 161.29it/s]\n",
      "  0%|          | 0/1 [00:00<?, ?it/s]"
     ]
    },
    {
     "name": "stdout",
     "output_type": "stream",
     "text": [
      "         id  match        name  score   type type_id input_value\n",
      "0  Q2703906   True  Eranthemum  100.0  taxon  Q16521  Eranthemum\n",
      "        id  match       name  score   type type_id input_value\n",
      "0  Q156569   True  Rubiaceae  100.0  taxon  Q16521   Rubiaceae\n",
      "        id  match       name  score   type type_id input_value\n",
      "0  Q156569   True  Rubiaceae  100.0  taxon  Q16521   Rubiaceae\n"
     ]
    },
    {
     "name": "stderr",
     "output_type": "stream",
     "text": [
      "100%|██████████| 1/1 [00:03<00:00,  3.01s/it]\n",
      "100%|██████████| 1/1 [00:00<00:00, 143.75it/s]\n",
      "100%|██████████| 1/1 [00:00<00:00, 93.66it/s]\n",
      "100%|██████████| 1/1 [00:00<00:00, 74.01it/s]\n",
      "  0%|          | 0/1 [00:00<?, ?it/s]"
     ]
    },
    {
     "name": "stdout",
     "output_type": "stream",
     "text": [
      "        id  match       name  score   type type_id input_value\n",
      "0  Q156569   True  Rubiaceae  100.0  taxon  Q16521    Rubiacea\n",
      "        id  match       name  score   type type_id input_value\n",
      "0  Q156569   True  Rubiaceae  100.0  taxon  Q16521    Rubiacea\n",
      "        id  match       name  score   type type_id input_value\n",
      "0  Q156569   True  Rubiaceae  100.0  taxon  Q16521    Rubiacea\n",
      "        id  match       name  score   type type_id input_value\n",
      "0  Q156569   True  Rubiaceae  100.0  taxon  Q16521    Rubiacea\n"
     ]
    },
    {
     "name": "stderr",
     "output_type": "stream",
     "text": [
      "  0%|          | 0/1 [00:01<?, ?it/s]\n",
      "100%|██████████| 1/1 [00:03<00:00,  3.17s/it]\n",
      "  0%|          | 0/1 [00:00<?, ?it/s]"
     ]
    },
    {
     "name": "stdout",
     "output_type": "stream",
     "text": [
      "         id  match     name  score   type type_id input_value\n",
      "0  Q1280862   True  Ruellia  100.0  taxon  Q16521     Ruellia\n"
     ]
    },
    {
     "name": "stderr",
     "output_type": "stream",
     "text": [
      "100%|██████████| 1/1 [00:02<00:00,  2.36s/it]\n",
      "  0%|          | 0/1 [00:00<?, ?it/s]"
     ]
    },
    {
     "name": "stdout",
     "output_type": "stream",
     "text": [
      "        id  match      name  score   type type_id input_value\n",
      "0  Q291801   True  Ruyschia  100.0  taxon  Q16521    Ruyschia\n"
     ]
    },
    {
     "name": "stderr",
     "output_type": "stream",
     "text": [
      "  0%|          | 0/1 [00:01<?, ?it/s]\n",
      "100%|██████████| 1/1 [00:03<00:00,  3.23s/it]\n",
      "  0%|          | 0/1 [00:00<?, ?it/s]"
     ]
    },
    {
     "name": "stdout",
     "output_type": "stream",
     "text": [
      "         id  match     name  score   type type_id input_value\n",
      "0  Q3360755  False  Salacia  100.0  taxon  Q16521     Salacia\n"
     ]
    },
    {
     "name": "stderr",
     "output_type": "stream",
     "text": [
      "  0%|          | 0/1 [00:01<?, ?it/s]\n",
      "  0%|          | 0/1 [00:01<?, ?it/s]\n",
      "  0%|          | 0/1 [00:01<?, ?it/s]\n",
      "  0%|          | 0/1 [00:01<?, ?it/s]\n",
      "  0%|          | 0/1 [00:02<?, ?it/s]\n",
      "100%|██████████| 1/1 [00:03<00:00,  3.11s/it]\n",
      "  0%|          | 0/1 [00:00<?, ?it/s]"
     ]
    },
    {
     "name": "stdout",
     "output_type": "stream",
     "text": [
      "       id  match              name  score   type type_id       input_value\n",
      "0  Q53473  False  Scrophulariaceae  100.0  taxon  Q16521  Scrophulariaceae\n"
     ]
    },
    {
     "name": "stderr",
     "output_type": "stream",
     "text": [
      "100%|██████████| 1/1 [00:01<00:00,  1.58s/it]\n",
      "  0%|          | 0/1 [00:00<?, ?it/s]"
     ]
    },
    {
     "name": "stdout",
     "output_type": "stream",
     "text": [
      "          id  match                      name  score   type type_id  \\\n",
      "0  Q15365232   True  Scutellaria purpurascens  100.0  taxon  Q16521   \n",
      "\n",
      "                input_value  \n",
      "0  Scutellaria purpurascens  \n"
     ]
    },
    {
     "name": "stderr",
     "output_type": "stream",
     "text": [
      "100%|██████████| 1/1 [00:03<00:00,  3.07s/it]\n",
      "  0%|          | 0/1 [00:00<?, ?it/s]"
     ]
    },
    {
     "name": "stdout",
     "output_type": "stream",
     "text": [
      "         id  match         name  score   type type_id  input_value\n",
      "0  Q5220377   True  Sebastiania  100.0  taxon  Q16521  Sebastiania\n"
     ]
    },
    {
     "name": "stderr",
     "output_type": "stream",
     "text": [
      "100%|██████████| 1/1 [00:02<00:00,  2.87s/it]\n",
      "100%|██████████| 1/1 [00:00<00:00, 147.15it/s]\n",
      "  0%|          | 0/1 [00:00<?, ?it/s]"
     ]
    },
    {
     "name": "stdout",
     "output_type": "stream",
     "text": [
      "         id  match        name  score   type type_id input_value\n",
      "0  Q2234927   True  Securidaca  100.0  taxon  Q16521  Securidaca\n",
      "         id  match        name  score   type type_id input_value\n",
      "0  Q2234927   True  Securidaca  100.0  taxon  Q16521  Securidaca\n"
     ]
    },
    {
     "name": "stderr",
     "output_type": "stream",
     "text": [
      "  0%|          | 0/1 [00:01<?, ?it/s]\n",
      "100%|██████████| 1/1 [00:02<00:00,  2.40s/it]\n",
      "  0%|          | 0/1 [00:00<?, ?it/s]"
     ]
    },
    {
     "name": "stdout",
     "output_type": "stream",
     "text": [
      "         id  match     name  score   type type_id input_value\n",
      "0  Q9077867   True  Sipanea  100.0  taxon  Q16521     Sipanea\n"
     ]
    },
    {
     "name": "stderr",
     "output_type": "stream",
     "text": [
      "100%|██████████| 1/1 [00:02<00:00,  2.83s/it]\n",
      "  0%|          | 0/1 [00:00<?, ?it/s]"
     ]
    },
    {
     "name": "stdout",
     "output_type": "stream",
     "text": [
      "          id  match  name  score   type type_id input_value\n",
      "0  Q28363681   True  Siva  100.0  taxon  Q16521        Siva\n"
     ]
    },
    {
     "name": "stderr",
     "output_type": "stream",
     "text": [
      "  0%|          | 0/1 [00:01<?, ?it/s]\n",
      "100%|██████████| 1/1 [00:03<00:00,  3.29s/it]\n",
      "  0%|          | 0/1 [00:00<?, ?it/s]"
     ]
    },
    {
     "name": "stdout",
     "output_type": "stream",
     "text": [
      "        id  match                name  score   type type_id  \\\n",
      "0  Q165329  False  Smilax glyciphylla   76.0  taxon  Q16521   \n",
      "\n",
      "          input_value  \n",
      "0  Smilacaceae Smilax  \n"
     ]
    },
    {
     "name": "stderr",
     "output_type": "stream",
     "text": [
      "100%|██████████| 1/1 [00:03<00:00,  3.25s/it]\n",
      "  0%|          | 0/1 [00:00<?, ?it/s]"
     ]
    },
    {
     "name": "stdout",
     "output_type": "stream",
     "text": [
      "        id  match    name  score   type type_id input_value\n",
      "0  Q165315  False  Smilax  100.0  taxon  Q16521      Smilax\n"
     ]
    },
    {
     "name": "stderr",
     "output_type": "stream",
     "text": [
      "100%|██████████| 1/1 [00:03<00:00,  3.58s/it]\n",
      "  0%|          | 0/1 [00:00<?, ?it/s]"
     ]
    },
    {
     "name": "stdout",
     "output_type": "stream",
     "text": [
      "        id  match            name  score   type type_id        input_value\n",
      "0  Q146400  False  Solanum nigrum   93.0  taxon  Q16521  Solanum nigrum, L\n"
     ]
    },
    {
     "name": "stderr",
     "output_type": "stream",
     "text": [
      "100%|██████████| 1/1 [00:03<00:00,  3.87s/it]\n",
      "  0%|          | 0/1 [00:00<?, ?it/s]"
     ]
    },
    {
     "name": "stdout",
     "output_type": "stream",
     "text": [
      "        id  match     name  score   type type_id input_value\n",
      "0  Q146555   True  Solanum  100.0  taxon  Q16521     Solanum\n"
     ]
    },
    {
     "name": "stderr",
     "output_type": "stream",
     "text": [
      "100%|██████████| 1/1 [00:03<00:00,  3.45s/it]\n",
      "  0%|          | 0/1 [00:00<?, ?it/s]"
     ]
    },
    {
     "name": "stdout",
     "output_type": "stream",
     "text": [
      "        id  match           name  score   type type_id    input_value\n",
      "0  Q132632   True  Spathiphyllum  100.0  taxon  Q16521  Spathiphyllum\n"
     ]
    },
    {
     "name": "stderr",
     "output_type": "stream",
     "text": [
      "100%|██████████| 1/1 [00:01<00:00,  1.92s/it]\n",
      "  0%|          | 0/1 [00:00<?, ?it/s]"
     ]
    },
    {
     "name": "stdout",
     "output_type": "stream",
     "text": [
      "         id  match     name  score   type type_id input_value\n",
      "0  Q4674192  False  Aciotis  100.0  taxon  Q16521    Spennera\n"
     ]
    },
    {
     "name": "stderr",
     "output_type": "stream",
     "text": [
      "100%|██████████| 1/1 [00:02<00:00,  2.44s/it]\n",
      "  0%|          | 0/1 [00:00<?, ?it/s]"
     ]
    },
    {
     "name": "stdout",
     "output_type": "stream",
     "text": [
      "         id  match        name  score   type type_id input_value\n",
      "0  Q1148903   True  Sphenoclea  100.0  taxon  Q16521  Sphenoclea\n"
     ]
    },
    {
     "name": "stderr",
     "output_type": "stream",
     "text": [
      "100%|██████████| 1/1 [00:03<00:00,  3.04s/it]\n",
      "100%|██████████| 1/1 [00:00<00:00, 192.27it/s]\n",
      "  0%|          | 0/1 [00:00<?, ?it/s]"
     ]
    },
    {
     "name": "stdout",
     "output_type": "stream",
     "text": [
      "          id  match        name  score   type type_id input_value\n",
      "0  Q15726706   True  Spilanthes  100.0  taxon  Q16521  Spilanthes\n",
      "          id  match        name  score   type type_id input_value\n",
      "0  Q15726706   True  Spilanthes  100.0  taxon  Q16521  Spilanthes\n"
     ]
    },
    {
     "name": "stderr",
     "output_type": "stream",
     "text": [
      "100%|██████████| 1/1 [00:01<00:00,  1.33s/it]\n",
      "  0%|          | 0/1 [00:00<?, ?it/s]"
     ]
    },
    {
     "name": "stdout",
     "output_type": "stream",
     "text": [
      "         id  match                  name  score   type type_id input_value\n",
      "0  Q4674021  False  Acianthera spilantha   65.0  taxon  Q16521  Spilanthus\n"
     ]
    },
    {
     "name": "stderr",
     "output_type": "stream",
     "text": [
      "100%|██████████| 1/1 [00:02<00:00,  2.90s/it]\n",
      "  0%|          | 0/1 [00:00<?, ?it/s]"
     ]
    },
    {
     "name": "stdout",
     "output_type": "stream",
     "text": [
      "        id  match      name  score   type type_id input_value\n",
      "0  Q311460   True  Spondias  100.0  taxon  Q16521    Spondias\n"
     ]
    },
    {
     "name": "stderr",
     "output_type": "stream",
     "text": [
      "100%|██████████| 1/1 [00:03<00:00,  3.07s/it]\n",
      "  0%|          | 0/1 [00:00<?, ?it/s]"
     ]
    },
    {
     "name": "stdout",
     "output_type": "stream",
     "text": [
      "         id  match           name  score   type type_id    input_value\n",
      "0  Q5637764   True  Stigmaphyllon  100.0  taxon  Q16521  Stigmaphyllon\n"
     ]
    },
    {
     "name": "stderr",
     "output_type": "stream",
     "text": [
      "100%|██████████| 1/1 [00:02<00:00,  2.97s/it]\n",
      "  0%|          | 0/1 [00:00<?, ?it/s]"
     ]
    },
    {
     "name": "stdout",
     "output_type": "stream",
     "text": [
      "        id  match       name  score   type type_id input_value\n",
      "0  Q904222   True  Strychnos  100.0  taxon  Q16521   Strychnos\n"
     ]
    },
    {
     "name": "stderr",
     "output_type": "stream",
     "text": [
      "100%|██████████| 1/1 [00:03<00:00,  3.07s/it]\n",
      "100%|██████████| 1/1 [00:00<00:00, 114.79it/s]\n",
      "  0%|          | 0/1 [00:00<?, ?it/s]"
     ]
    },
    {
     "name": "stdout",
     "output_type": "stream",
     "text": [
      "        id  match      name  score   type type_id input_value\n",
      "0  Q136972   True  Swartzia  100.0  taxon  Q16521    Swartzia\n",
      "        id  match      name  score   type type_id input_value\n",
      "0  Q136972   True  Swartzia  100.0  taxon  Q16521    Swartzia\n"
     ]
    },
    {
     "name": "stderr",
     "output_type": "stream",
     "text": [
      "100%|██████████| 1/1 [00:03<00:00,  3.01s/it]\n",
      "100%|██████████| 1/1 [00:00<00:00, 194.31it/s]\n",
      "100%|██████████| 1/1 [00:00<00:00, 77.59it/s]\n",
      "100%|██████████| 1/1 [00:00<00:00, 82.46it/s]\n",
      "  0%|          | 0/1 [00:00<?, ?it/s]"
     ]
    },
    {
     "name": "stdout",
     "output_type": "stream",
     "text": [
      "        id  match             name  score   type type_id      input_value\n",
      "0  Q310915   True  Tabernaemontana  100.0  taxon  Q16521  Tabernaemontana\n",
      "        id  match             name  score   type type_id      input_value\n",
      "0  Q310915   True  Tabernaemontana  100.0  taxon  Q16521  Tabernaemontana\n",
      "        id  match             name  score   type type_id      input_value\n",
      "0  Q310915   True  Tabernaemontana  100.0  taxon  Q16521  Tabernaemontana\n",
      "        id  match             name  score   type type_id      input_value\n",
      "0  Q310915   True  Tabernaemontana  100.0  taxon  Q16521  Tabernaemontana\n"
     ]
    },
    {
     "name": "stderr",
     "output_type": "stream",
     "text": [
      "  0%|          | 0/1 [00:01<?, ?it/s]\n",
      "  0%|          | 0/1 [00:01<?, ?it/s]\n",
      "  0%|          | 0/1 [00:03<?, ?it/s]\n",
      "100%|██████████| 1/1 [00:03<00:00,  3.08s/it]\n",
      "  0%|          | 0/1 [00:00<?, ?it/s]"
     ]
    },
    {
     "name": "stdout",
     "output_type": "stream",
     "text": [
      "         id  match    name  score   type type_id input_value\n",
      "0  Q2307801   True  Tecoma  100.0  taxon  Q16521      Tecoma\n"
     ]
    },
    {
     "name": "stderr",
     "output_type": "stream",
     "text": [
      "100%|██████████| 1/1 [00:01<00:00,  1.84s/it]\n",
      "  0%|          | 0/1 [00:00<?, ?it/s]"
     ]
    },
    {
     "name": "stdout",
     "output_type": "stream",
     "text": [
      "        id  match              name  score   type type_id      input_value\n",
      "0  Q132719  False  Pentaphylacaceae   97.0  taxon  Q16521  Ternstroemiacea\n"
     ]
    },
    {
     "name": "stderr",
     "output_type": "stream",
     "text": [
      "100%|██████████| 1/1 [00:02<00:00,  2.95s/it]\n",
      "  0%|          | 0/1 [00:00<?, ?it/s]"
     ]
    },
    {
     "name": "stdout",
     "output_type": "stream",
     "text": [
      "         id  match          name  score   type type_id   input_value\n",
      "0  Q2708612   True  Ternstroemia  100.0  taxon  Q16521  Ternstroemia\n"
     ]
    },
    {
     "name": "stderr",
     "output_type": "stream",
     "text": [
      "  0%|          | 0/1 [00:01<?, ?it/s]\n",
      "100%|██████████| 1/1 [00:03<00:00,  3.29s/it]\n",
      "100%|██████████| 1/1 [00:00<00:00, 188.71it/s]\n",
      "  0%|          | 0/1 [00:00<?, ?it/s]"
     ]
    },
    {
     "name": "stdout",
     "output_type": "stream",
     "text": [
      "        id  match       name  score   type type_id input_value\n",
      "0  Q162078  False  Theobroma  100.0  taxon  Q16521   Theobroma\n",
      "        id  match       name  score   type type_id input_value\n",
      "0  Q162078  False  Theobroma  100.0  taxon  Q16521   Theobroma\n"
     ]
    },
    {
     "name": "stderr",
     "output_type": "stream",
     "text": [
      "  0%|          | 0/1 [00:01<?, ?it/s]\n",
      "100%|██████████| 1/1 [00:03<00:00,  3.11s/it]\n",
      "  0%|          | 0/1 [00:00<?, ?it/s]"
     ]
    },
    {
     "name": "stdout",
     "output_type": "stream",
     "text": [
      "         id  match     name  score   type type_id input_value\n",
      "0  Q2119788   True  Turnera  100.0  taxon  Q16521     Turnera\n"
     ]
    },
    {
     "name": "stderr",
     "output_type": "stream",
     "text": [
      "100%|██████████| 1/1 [00:03<00:00,  3.13s/it]\n",
      "  0%|          | 0/1 [00:00<?, ?it/s]"
     ]
    },
    {
     "name": "stdout",
     "output_type": "stream",
     "text": [
      "        id  match         name  score   type type_id  input_value\n",
      "0  Q156960   True  Verbenaceae  100.0  taxon  Q16521  Verbenaceae\n"
     ]
    },
    {
     "name": "stderr",
     "output_type": "stream",
     "text": [
      "100%|██████████| 1/1 [00:02<00:00,  2.97s/it]\n",
      "  0%|          | 0/1 [00:00<?, ?it/s]"
     ]
    },
    {
     "name": "stdout",
     "output_type": "stream",
     "text": [
      "         id  match      name  score   type type_id input_value\n",
      "0  Q1411311  False  Vernonia  100.0  taxon  Q16521    Vernonia\n"
     ]
    },
    {
     "name": "stderr",
     "output_type": "stream",
     "text": [
      "100%|██████████| 1/1 [00:03<00:00,  3.56s/it]\n",
      "100%|██████████| 1/1 [00:00<00:00, 153.18it/s]\n",
      "  0%|          | 0/1 [00:00<?, ?it/s]"
     ]
    },
    {
     "name": "stdout",
     "output_type": "stream",
     "text": [
      "        id  match   name  score   type type_id input_value\n",
      "0  Q132634   True  Vigna  100.0  taxon  Q16521       Vigna\n",
      "        id  match   name  score   type type_id input_value\n",
      "0  Q132634   True  Vigna  100.0  taxon  Q16521       Vigna\n"
     ]
    },
    {
     "name": "stderr",
     "output_type": "stream",
     "text": [
      "100%|██████████| 1/1 [00:03<00:00,  3.23s/it]\n",
      "  0%|          | 0/1 [00:00<?, ?it/s]"
     ]
    },
    {
     "name": "stdout",
     "output_type": "stream",
     "text": [
      "         id  match    name  score   type type_id input_value\n",
      "0  Q1310537   True  Vismia  100.0  taxon  Q16521      Vismia\n"
     ]
    },
    {
     "name": "stderr",
     "output_type": "stream",
     "text": [
      "100%|██████████| 1/1 [00:03<00:00,  3.75s/it]\n",
      "100%|██████████| 1/1 [00:00<00:00, 91.97it/s]\n",
      "  0%|          | 0/1 [00:00<?, ?it/s]"
     ]
    },
    {
     "name": "stdout",
     "output_type": "stream",
     "text": [
      "        id  match   name  score   type type_id input_value\n",
      "0  Q132607   True  Vitex  100.0  taxon  Q16521       Vitex\n",
      "        id  match   name  score   type type_id input_value\n",
      "0  Q132607   True  Vitex  100.0  taxon  Q16521       Vitex\n"
     ]
    },
    {
     "name": "stderr",
     "output_type": "stream",
     "text": [
      "  0%|          | 0/1 [00:01<?, ?it/s]\n",
      "100%|██████████| 1/1 [00:03<00:00,  3.78s/it]\n",
      "  0%|          | 0/1 [00:00<?, ?it/s]"
     ]
    },
    {
     "name": "stdout",
     "output_type": "stream",
     "text": [
      "       id  match    name  score   type type_id input_value\n",
      "0  Q81666  False  Acacia  100.0  taxon  Q16521      Acacia\n"
     ]
    },
    {
     "name": "stderr",
     "output_type": "stream",
     "text": [
      "  0%|          | 0/1 [00:01<?, ?it/s]\n",
      "100%|██████████| 1/1 [00:03<00:00,  3.07s/it]\n",
      "  0%|          | 0/1 [00:00<?, ?it/s]"
     ]
    },
    {
     "name": "stdout",
     "output_type": "stream",
     "text": [
      "         id  match       name  score   type type_id input_value\n",
      "0  Q3309404  False  Alchornea  100.0  taxon  Q16521   Alchornea\n"
     ]
    },
    {
     "name": "stderr",
     "output_type": "stream",
     "text": [
      "100%|██████████| 1/1 [00:02<00:00,  2.88s/it]\n",
      "  0%|          | 0/1 [00:00<?, ?it/s]"
     ]
    },
    {
     "name": "stdout",
     "output_type": "stream",
     "text": [
      "         id  match    name  score   type type_id input_value\n",
      "0  Q4713823   True  Aldina  100.0  taxon  Q16521      Aldina\n"
     ]
    },
    {
     "name": "stderr",
     "output_type": "stream",
     "text": [
      "  0%|          | 0/1 [00:01<?, ?it/s]\n",
      "  0%|          | 0/1 [00:03<?, ?it/s]\n",
      "100%|██████████| 1/1 [00:03<00:00,  3.07s/it]\n",
      "  0%|          | 0/1 [00:00<?, ?it/s]"
     ]
    },
    {
     "name": "stdout",
     "output_type": "stream",
     "text": [
      "         id  match           name  score   type type_id    input_value\n",
      "0  Q2840398   True  Alternanthera  100.0  taxon  Q16521  Alternanthera\n"
     ]
    },
    {
     "name": "stderr",
     "output_type": "stream",
     "text": [
      "100%|██████████| 1/1 [00:03<00:00,  3.49s/it]\n",
      "100%|██████████| 1/1 [00:00<00:00, 110.30it/s]\n",
      "100%|██████████| 1/1 [00:00<00:00, 107.15it/s]\n",
      "  0%|          | 0/1 [00:00<?, ?it/s]"
     ]
    },
    {
     "name": "stdout",
     "output_type": "stream",
     "text": [
      "        id  match           name  score   type type_id    input_value\n",
      "0  Q155931   True  Amaranthaceae  100.0  taxon  Q16521  Amaranthaceae\n",
      "        id  match           name  score   type type_id    input_value\n",
      "0  Q155931   True  Amaranthaceae  100.0  taxon  Q16521  Amaranthaceae\n",
      "        id  match           name  score   type type_id    input_value\n",
      "0  Q155931   True  Amaranthaceae  100.0  taxon  Q16521  Amaranthaceae\n"
     ]
    },
    {
     "name": "stderr",
     "output_type": "stream",
     "text": [
      "100%|██████████| 1/1 [00:03<00:00,  3.24s/it]\n",
      "  0%|          | 0/1 [00:00<?, ?it/s]"
     ]
    },
    {
     "name": "stdout",
     "output_type": "stream",
     "text": [
      "        id  match                  name  score   type type_id input_value\n",
      "0  Q159792  False  Amaryllis belladonna  100.0  taxon  Q16521   Amaryllis\n"
     ]
    },
    {
     "name": "stderr",
     "output_type": "stream",
     "text": [
      "  0%|          | 0/1 [00:01<?, ?it/s]\n",
      "100%|██████████| 1/1 [00:03<00:00,  3.04s/it]\n",
      "  0%|          | 0/1 [00:00<?, ?it/s]"
     ]
    },
    {
     "name": "stdout",
     "output_type": "stream",
     "text": [
      "        id  match           name  score   type type_id    input_value\n",
      "0  Q156589   True  Anacardiaceae  100.0  taxon  Q16521  Anacardiaceae\n"
     ]
    },
    {
     "name": "stderr",
     "output_type": "stream",
     "text": [
      "  0%|          | 0/1 [00:01<?, ?it/s]\n",
      "100%|██████████| 1/1 [00:02<00:00,  2.87s/it]\n",
      "  0%|          | 0/1 [00:00<?, ?it/s]"
     ]
    },
    {
     "name": "stdout",
     "output_type": "stream",
     "text": [
      "         id  match        name  score   type type_id input_value\n",
      "0  Q1936078   True  Anaxagorea  100.0  taxon  Q16521  Anaxagorea\n"
     ]
    },
    {
     "name": "stderr",
     "output_type": "stream",
     "text": [
      "100%|██████████| 1/1 [00:02<00:00,  2.77s/it]\n",
      "100%|██████████| 1/1 [00:00<00:00, 147.29it/s]\n",
      "  0%|          | 0/1 [00:00<?, ?it/s]"
     ]
    },
    {
     "name": "stdout",
     "output_type": "stream",
     "text": [
      "        id  match       name  score   type type_id input_value\n",
      "0  Q132239  False  Citrullus  100.0  taxon  Q16521     Anguria\n",
      "        id  match       name  score   type type_id input_value\n",
      "0  Q132239  False  Citrullus  100.0  taxon  Q16521     Anguria\n"
     ]
    },
    {
     "name": "stderr",
     "output_type": "stream",
     "text": [
      "100%|██████████| 1/1 [00:01<00:00,  1.78s/it]\n",
      "  0%|          | 0/1 [00:00<?, ?it/s]"
     ]
    },
    {
     "name": "stdout",
     "output_type": "stream",
     "text": [
      "          id  match                   name  score   type type_id  \\\n",
      "0  Q15481876   True  Aniseia martinicensis  100.0  taxon  Q16521   \n",
      "\n",
      "             input_value  \n",
      "0  Aniseia martinicensis  \n"
     ]
    },
    {
     "name": "stderr",
     "output_type": "stream",
     "text": [
      "100%|██████████| 1/1 [00:02<00:00,  2.86s/it]\n",
      "  0%|          | 0/1 [00:00<?, ?it/s]"
     ]
    },
    {
     "name": "stdout",
     "output_type": "stream",
     "text": [
      "          id  match      name  score   type type_id input_value\n",
      "0  Q15933082   True  Artanthe  100.0  taxon  Q16521    Artanthe\n"
     ]
    },
    {
     "name": "stderr",
     "output_type": "stream",
     "text": [
      "100%|██████████| 1/1 [00:03<00:00,  3.54s/it]\n",
      "  0%|          | 0/1 [00:00<?, ?it/s]"
     ]
    },
    {
     "name": "stdout",
     "output_type": "stream",
     "text": [
      "        id  match       name  score   type type_id input_value\n",
      "0  Q162153   True  Asclepias  100.0  taxon  Q16521   Asclepias\n"
     ]
    },
    {
     "name": "stderr",
     "output_type": "stream",
     "text": [
      "  0%|          | 0/1 [00:01<?, ?it/s]\n",
      "  0%|          | 0/1 [00:01<?, ?it/s]\n",
      "  0%|          | 0/1 [00:01<?, ?it/s]\n",
      "100%|██████████| 1/1 [00:03<00:00,  3.07s/it]\n",
      "  0%|          | 0/1 [00:00<?, ?it/s]"
     ]
    },
    {
     "name": "stdout",
     "output_type": "stream",
     "text": [
      "        id  match    name  score   type type_id input_value\n",
      "0  Q724502   True  Ayenia  100.0  taxon  Q16521      Ayenia\n"
     ]
    },
    {
     "name": "stderr",
     "output_type": "stream",
     "text": [
      "100%|██████████| 1/1 [00:02<00:00,  2.92s/it]\n",
      "  0%|          | 0/1 [00:00<?, ?it/s]"
     ]
    },
    {
     "name": "stdout",
     "output_type": "stream",
     "text": [
      "        id  match     name  score   type type_id input_value\n",
      "0  Q135451   True  Bactris  100.0  taxon  Q16521     Bactris\n"
     ]
    },
    {
     "name": "stderr",
     "output_type": "stream",
     "text": [
      "  0%|          | 0/1 [00:01<?, ?it/s]\n",
      "  0%|          | 0/1 [00:01<?, ?it/s]\n",
      "  0%|          | 0/1 [00:01<?, ?it/s]\n",
      "  0%|          | 0/1 [00:01<?, ?it/s]\n",
      "  0%|          | 0/1 [00:00<?, ?it/s]\n",
      "100%|██████████| 1/1 [00:03<00:00,  3.16s/it]\n",
      "  0%|          | 0/1 [00:00<?, ?it/s]"
     ]
    },
    {
     "name": "stdout",
     "output_type": "stream",
     "text": [
      "        id  match          name  score   type type_id   input_value\n",
      "0  Q213453   True  Bignoniaceae  100.0  taxon  Q16521  Bignoniaceae\n"
     ]
    },
    {
     "name": "stderr",
     "output_type": "stream",
     "text": [
      "  0%|          | 0/1 [00:01<?, ?it/s]\n",
      "100%|██████████| 1/1 [00:02<00:00,  2.11s/it]\n",
      "100%|██████████| 1/1 [00:00<00:00, 199.95it/s]\n",
      "  0%|          | 0/1 [00:00<?, ?it/s]"
     ]
    },
    {
     "name": "stdout",
     "output_type": "stream",
     "text": [
      "        id  match           name  score   type type_id input_value\n",
      "0  Q147701  False  Bixa orellana   93.0  taxon  Q16521     Bixacea\n",
      "        id  match           name  score   type type_id input_value\n",
      "0  Q147701  False  Bixa orellana   93.0  taxon  Q16521     Bixacea\n"
     ]
    },
    {
     "name": "stderr",
     "output_type": "stream",
     "text": [
      "100%|██████████| 1/1 [00:01<00:00,  1.60s/it]\n",
      "  0%|          | 0/1 [00:00<?, ?it/s]"
     ]
    },
    {
     "name": "stdout",
     "output_type": "stream",
     "text": [
      "        id  match      name  score   type type_id input_value\n",
      "0  Q564650   True  Bixaceae  100.0  taxon  Q16521    Bixacées\n"
     ]
    },
    {
     "name": "stderr",
     "output_type": "stream",
     "text": [
      "100%|██████████| 1/1 [00:03<00:00,  3.60s/it]\n",
      "  0%|          | 0/1 [00:00<?, ?it/s]"
     ]
    },
    {
     "name": "stdout",
     "output_type": "stream",
     "text": [
      "         id  match                    name  score   type type_id input_value\n",
      "0  Q1342941  False  Redtoothed triggerfish   67.0  taxon  Q16521      Bla.ca\n"
     ]
    },
    {
     "name": "stderr",
     "output_type": "stream",
     "text": [
      "  0%|          | 0/1 [00:01<?, ?it/s]\n",
      "  0%|          | 0/1 [00:01<?, ?it/s]\n",
      "  0%|          | 0/1 [00:01<?, ?it/s]\n",
      "100%|██████████| 1/1 [00:02<00:00,  2.56s/it]\n",
      "  0%|          | 0/1 [00:00<?, ?it/s]"
     ]
    },
    {
     "name": "stdout",
     "output_type": "stream",
     "text": [
      "        id  match               name  score   type type_id   input_value\n",
      "0  Q158018  False  Erythroxylum coca  100.0  taxon  Q16521  Erythroxylon\n"
     ]
    },
    {
     "name": "stderr",
     "output_type": "stream",
     "text": [
      "100%|██████████| 1/1 [00:03<00:00,  3.02s/it]\n",
      "  0%|          | 0/1 [00:00<?, ?it/s]"
     ]
    },
    {
     "name": "stdout",
     "output_type": "stream",
     "text": [
      "         id  match        name  score   type type_id input_value\n",
      "0  Q1123970   True  Eupatorium  100.0  taxon  Q16521  Eupatorium\n"
     ]
    },
    {
     "name": "stderr",
     "output_type": "stream",
     "text": [
      "100%|██████████| 1/1 [00:03<00:00,  3.02s/it]\n",
      "  0%|          | 0/1 [00:00<?, ?it/s]"
     ]
    },
    {
     "name": "stdout",
     "output_type": "stream",
     "text": [
      "        id  match           name  score   type type_id    input_value\n",
      "0  Q156584   True  Euphorbiaceae  100.0  taxon  Q16521  Euphorbiaceae\n"
     ]
    },
    {
     "name": "stderr",
     "output_type": "stream",
     "text": [
      "100%|██████████| 1/1 [00:01<00:00,  1.90s/it]\n",
      "100%|██████████| 1/1 [00:00<00:00, 159.71it/s]\n",
      "  0%|          | 0/1 [00:00<?, ?it/s]"
     ]
    },
    {
     "name": "stdout",
     "output_type": "stream",
     "text": [
      "        id  match           name  score   type type_id   input_value\n",
      "0  Q156584   True  Euphorbiaceae   96.0  taxon  Q16521  Euphorbiacea\n",
      "        id  match           name  score   type type_id   input_value\n",
      "0  Q156584   True  Euphorbiaceae   96.0  taxon  Q16521  Euphorbiacea\n"
     ]
    },
    {
     "name": "stderr",
     "output_type": "stream",
     "text": [
      "  0%|          | 0/1 [00:03<?, ?it/s]\n",
      "100%|██████████| 1/1 [00:03<00:00,  3.33s/it]\n",
      "100%|██████████| 1/1 [00:00<00:00, 126.54it/s]\n",
      "  0%|          | 0/1 [00:00<?, ?it/s]"
     ]
    },
    {
     "name": "stdout",
     "output_type": "stream",
     "text": [
      "       id  match   name  score   type type_id input_value\n",
      "0  Q59798  False  Ficus  100.0  taxon  Q16521       Ficus\n",
      "       id  match   name  score   type type_id input_value\n",
      "0  Q59798  False  Ficus  100.0  taxon  Q16521       Ficus\n"
     ]
    },
    {
     "name": "stderr",
     "output_type": "stream",
     "text": [
      "  0%|          | 0/1 [00:02<?, ?it/s]\n",
      "  0%|          | 0/1 [00:00<?, ?it/s]\n",
      "  0%|          | 0/1 [00:00<?, ?it/s]\n",
      "  0%|          | 0/1 [00:00<?, ?it/s]\n",
      "  0%|          | 0/1 [00:00<?, ?it/s]\n",
      "  0%|          | 0/1 [00:00<?, ?it/s]\n",
      "  0%|          | 0/1 [00:00<?, ?it/s]\n",
      "  0%|          | 0/1 [00:00<?, ?it/s]\n",
      "  0%|          | 0/1 [00:00<?, ?it/s]\n",
      "  0%|          | 0/1 [00:01<?, ?it/s]\n",
      "  0%|          | 0/1 [00:00<?, ?it/s]\n",
      "100%|██████████| 1/1 [00:03<00:00,  3.07s/it]\n",
      "  0%|          | 0/1 [00:00<?, ?it/s]"
     ]
    },
    {
     "name": "stdout",
     "output_type": "stream",
     "text": [
      "         id  match         name  score   type type_id  input_value\n",
      "0  Q1334912   True  Forsteronia  100.0  taxon  Q16521  Forsteronia\n"
     ]
    },
    {
     "name": "stderr",
     "output_type": "stream",
     "text": [
      "  0%|          | 0/1 [00:01<?, ?it/s]\n",
      "100%|██████████| 1/1 [00:03<00:00,  3.03s/it]\n",
      "  0%|          | 0/1 [00:00<?, ?it/s]"
     ]
    },
    {
     "name": "stdout",
     "output_type": "stream",
     "text": [
      "        id  match     name  score   type type_id input_value\n",
      "0  Q142256   True  Geonoma  100.0  taxon  Q16521     Geonoma\n"
     ]
    },
    {
     "name": "stderr",
     "output_type": "stream",
     "text": [
      "  0%|          | 0/1 [00:01<?, ?it/s]\n",
      "  0%|          | 0/1 [00:01<?, ?it/s]\n",
      "  0%|          | 0/1 [00:01<?, ?it/s]\n",
      "  0%|          | 0/1 [00:01<?, ?it/s]\n",
      "  0%|          | 0/1 [00:00<?, ?it/s]\n",
      "  0%|          | 0/1 [00:01<?, ?it/s]\n",
      "100%|██████████| 1/1 [00:03<00:00,  3.19s/it]\n",
      "100%|██████████| 1/1 [00:00<00:00, 275.40it/s]\n",
      "100%|██████████| 1/1 [00:00<00:00, 276.78it/s]\n",
      "100%|██████████| 1/1 [00:00<00:00, 272.11it/s]\n",
      "100%|██████████| 1/1 [00:00<00:00, 211.10it/s]\n",
      "  0%|          | 0/1 [00:00<?, ?it/s]"
     ]
    },
    {
     "name": "stdout",
     "output_type": "stream",
     "text": [
      "       id  match     name  score   type type_id input_value\n",
      "0  Q43238  False  Poaceae  100.0  taxon  Q16521    Graminea\n",
      "       id  match     name  score   type type_id input_value\n",
      "0  Q43238  False  Poaceae  100.0  taxon  Q16521    Graminea\n",
      "       id  match     name  score   type type_id input_value\n",
      "0  Q43238  False  Poaceae  100.0  taxon  Q16521    Graminea\n",
      "       id  match     name  score   type type_id input_value\n",
      "0  Q43238  False  Poaceae  100.0  taxon  Q16521    Graminea\n",
      "       id  match     name  score   type type_id input_value\n",
      "0  Q43238  False  Poaceae  100.0  taxon  Q16521    Graminea\n"
     ]
    },
    {
     "name": "stderr",
     "output_type": "stream",
     "text": [
      "100%|██████████| 1/1 [00:03<00:00,  3.35s/it]\n",
      "  0%|          | 0/1 [00:00<?, ?it/s]"
     ]
    },
    {
     "name": "stdout",
     "output_type": "stream",
     "text": [
      "        id  match     name  score   type type_id input_value\n",
      "0  Q209089   True  Guarana  100.0  taxon  Q16521     Guaraná\n"
     ]
    },
    {
     "name": "stderr",
     "output_type": "stream",
     "text": [
      "100%|██████████| 1/1 [00:02<00:00,  2.94s/it]\n",
      "  0%|          | 0/1 [00:00<?, ?it/s]"
     ]
    },
    {
     "name": "stdout",
     "output_type": "stream",
     "text": [
      "         id  match    name  score   type type_id input_value\n",
      "0  Q3307770   True  Guarea  100.0  taxon  Q16521      Guarea\n"
     ]
    },
    {
     "name": "stderr",
     "output_type": "stream",
     "text": [
      "100%|██████████| 1/1 [00:01<00:00,  1.41s/it]\n",
      "  0%|          | 0/1 [00:00<?, ?it/s]"
     ]
    },
    {
     "name": "stdout",
     "output_type": "stream",
     "text": [
      "          id  match              name  score   type type_id       input_value\n",
      "0  Q10306640   True  Gustavia augusta  100.0  taxon  Q16521  Gustavia Augusta\n"
     ]
    },
    {
     "name": "stderr",
     "output_type": "stream",
     "text": [
      "100%|██████████| 1/1 [00:02<00:00,  2.97s/it]\n",
      "  0%|          | 0/1 [00:00<?, ?it/s]"
     ]
    },
    {
     "name": "stdout",
     "output_type": "stream",
     "text": [
      "         id  match       name  score   type type_id input_value\n",
      "0  Q5701124   True  Heisteria  100.0  taxon  Q16521   Heisteria\n"
     ]
    },
    {
     "name": "stderr",
     "output_type": "stream",
     "text": [
      "100%|██████████| 1/1 [00:03<00:00,  3.15s/it]\n",
      "  0%|          | 0/1 [00:00<?, ?it/s]"
     ]
    },
    {
     "name": "stdout",
     "output_type": "stream",
     "text": [
      "        id  match       name  score   type type_id input_value\n",
      "0  Q624242  False  Heliconia  100.0  taxon  Q16521   Heliconia\n"
     ]
    },
    {
     "name": "stderr",
     "output_type": "stream",
     "text": [
      "100%|██████████| 1/1 [00:03<00:00,  3.18s/it]\n",
      "  0%|          | 0/1 [00:00<?, ?it/s]"
     ]
    },
    {
     "name": "stdout",
     "output_type": "stream",
     "text": [
      "         id  match       name  score   type type_id input_value\n",
      "0  Q9003250   True  Herpestis  100.0  taxon  Q16521   Herpestis\n"
     ]
    },
    {
     "name": "stderr",
     "output_type": "stream",
     "text": [
      "  0%|          | 0/1 [00:01<?, ?it/s]\n",
      "  0%|          | 0/1 [00:01<?, ?it/s]\n",
      "100%|██████████| 1/1 [00:03<00:00,  3.20s/it]\n",
      "  0%|          | 0/1 [00:00<?, ?it/s]"
     ]
    },
    {
     "name": "stdout",
     "output_type": "stream",
     "text": [
      "        id  match      name  score   type type_id input_value\n",
      "0  Q157124  False  Hibiscus  100.0  taxon  Q16521    Hibiscus\n"
     ]
    },
    {
     "name": "stderr",
     "output_type": "stream",
     "text": [
      "  0%|          | 0/1 [00:01<?, ?it/s]\n",
      "100%|██████████| 1/1 [00:01<00:00,  1.30s/it]\n",
      "  0%|          | 0/1 [00:00<?, ?it/s]"
     ]
    },
    {
     "name": "stdout",
     "output_type": "stream",
     "text": [
      "         id  match     name  score   type type_id input_value\n",
      "0  Q9005413   True  Humiria  100.0  taxon  Q16521    Humirium\n"
     ]
    },
    {
     "name": "stderr",
     "output_type": "stream",
     "text": [
      "100%|██████████| 1/1 [00:02<00:00,  2.99s/it]\n",
      "  0%|          | 0/1 [00:00<?, ?it/s]"
     ]
    },
    {
     "name": "stdout",
     "output_type": "stream",
     "text": [
      "         id  match    name  score   type type_id input_value\n",
      "0  Q2600191   True  Hyptis  100.0  taxon  Q16521      Hyptis\n"
     ]
    },
    {
     "name": "stderr",
     "output_type": "stream",
     "text": [
      "  0%|          | 0/1 [00:01<?, ?it/s]\n",
      "  0%|          | 0/1 [00:01<?, ?it/s]\n",
      "100%|██████████| 1/1 [00:05<00:00,  5.36s/it]\n",
      "  0%|          | 0/1 [00:00<?, ?it/s]"
     ]
    },
    {
     "name": "stdout",
     "output_type": "stream",
     "text": [
      "        id  match         name  score   type type_id input_value\n",
      "0  Q138183  False  Inga edulis  100.0  taxon  Q16521        Inga\n"
     ]
    },
    {
     "name": "stderr",
     "output_type": "stream",
     "text": [
      "  0%|          | 0/1 [00:01<?, ?it/s]\n",
      "100%|██████████| 1/1 [00:03<00:00,  3.41s/it]\n",
      "  0%|          | 0/1 [00:00<?, ?it/s]"
     ]
    },
    {
     "name": "stdout",
     "output_type": "stream",
     "text": [
      "        id  match     name  score   type type_id input_value\n",
      "0  Q161173  False  Ipomoea  100.0  taxon  Q16521     Ipomoea\n"
     ]
    },
    {
     "name": "stderr",
     "output_type": "stream",
     "text": [
      "100%|██████████| 1/1 [00:03<00:00,  3.01s/it]\n",
      "  0%|          | 0/1 [00:00<?, ?it/s]"
     ]
    },
    {
     "name": "stdout",
     "output_type": "stream",
     "text": [
      "        id  match       name  score   type type_id input_value\n",
      "0  Q311105  False  Jacaranda  100.0  taxon  Q16521   Jacaranda\n"
     ]
    },
    {
     "name": "stderr",
     "output_type": "stream",
     "text": [
      "  0%|          | 0/1 [00:01<?, ?it/s]\n",
      "100%|██████████| 1/1 [00:02<00:00,  2.48s/it]\n",
      "  0%|          | 0/1 [00:00<?, ?it/s]"
     ]
    },
    {
     "name": "stdout",
     "output_type": "stream",
     "text": [
      "        id  match      name  score   type type_id input_value\n",
      "0  Q133290  False  Syzygium  100.0  taxon  Q16521     Jambosa\n"
     ]
    },
    {
     "name": "stderr",
     "output_type": "stream",
     "text": [
      "100%|██████████| 1/1 [00:03<00:00,  3.04s/it]\n",
      "  0%|          | 0/1 [00:00<?, ?it/s]"
     ]
    },
    {
     "name": "stdout",
     "output_type": "stream",
     "text": [
      "       id  match      name  score   type type_id input_value\n",
      "0  Q82014  False  Jasminum  100.0  taxon  Q16521      Jasmin\n"
     ]
    },
    {
     "name": "stderr",
     "output_type": "stream",
     "text": [
      "100%|██████████| 1/1 [00:03<00:00,  3.35s/it]\n",
      "  0%|          | 0/1 [00:00<?, ?it/s]"
     ]
    },
    {
     "name": "stdout",
     "output_type": "stream",
     "text": [
      "       id  match             name  score   type type_id input_value\n",
      "0  Q74644  False  Jatropha curcas  100.0  taxon  Q16521    Jatropha\n"
     ]
    },
    {
     "name": "stderr",
     "output_type": "stream",
     "text": [
      "  0%|          | 0/1 [00:01<?, ?it/s]\n",
      "100%|██████████| 1/1 [00:02<00:00,  2.98s/it]\n",
      "  0%|          | 0/1 [00:00<?, ?it/s]"
     ]
    },
    {
     "name": "stdout",
     "output_type": "stream",
     "text": [
      "          id  match     name  score   type type_id input_value\n",
      "0  Q61883172  False  Labiata  100.0  taxon  Q16521     Labiata\n"
     ]
    },
    {
     "name": "stderr",
     "output_type": "stream",
     "text": [
      "100%|██████████| 1/1 [00:02<00:00,  2.44s/it]\n",
      "  0%|          | 0/1 [00:00<?, ?it/s]"
     ]
    },
    {
     "name": "stdout",
     "output_type": "stream",
     "text": [
      "         id  match       name  score   type type_id input_value\n",
      "0  Q6468661   True  Lacistema  100.0  taxon  Q16521   Lacistema\n"
     ]
    },
    {
     "name": "stderr",
     "output_type": "stream",
     "text": [
      "  0%|          | 0/1 [00:02<?, ?it/s]\n",
      "100%|██████████| 1/1 [00:02<00:00,  2.67s/it]\n",
      "100%|██████████| 1/1 [00:00<00:00, 256.45it/s]\n",
      "100%|██████████| 1/1 [00:00<00:00, 259.48it/s]\n",
      "  0%|          | 0/1 [00:00<?, ?it/s]"
     ]
    },
    {
     "name": "stdout",
     "output_type": "stream",
     "text": [
      "       id  match       name  score   type type_id input_value\n",
      "0  Q26538   True  Lauraceae  100.0  taxon  Q16521    Lauracea\n",
      "       id  match       name  score   type type_id input_value\n",
      "0  Q26538   True  Lauraceae  100.0  taxon  Q16521    Lauracea\n",
      "       id  match       name  score   type type_id input_value\n",
      "0  Q26538   True  Lauraceae  100.0  taxon  Q16521    Lauracea\n"
     ]
    },
    {
     "name": "stderr",
     "output_type": "stream",
     "text": [
      "  0%|          | 0/1 [00:01<?, ?it/s]\n",
      "100%|██████████| 1/1 [00:02<00:00,  2.97s/it]\n",
      "100%|██████████| 1/1 [00:00<00:00, 178.32it/s]\n",
      "100%|██████████| 1/1 [00:00<00:00, 141.67it/s]\n",
      "100%|██████████| 1/1 [00:00<00:00, 77.95it/s]\n",
      "  0%|          | 0/1 [00:00<?, ?it/s]"
     ]
    },
    {
     "name": "stdout",
     "output_type": "stream",
     "text": [
      "         id  match      name  score   type type_id input_value\n",
      "0  Q1786738   True  Lecythis  100.0  taxon  Q16521    Lecythis\n",
      "         id  match      name  score   type type_id input_value\n",
      "0  Q1786738   True  Lecythis  100.0  taxon  Q16521    Lecythis\n",
      "         id  match      name  score   type type_id input_value\n",
      "0  Q1786738   True  Lecythis  100.0  taxon  Q16521    Lecythis\n",
      "         id  match      name  score   type type_id input_value\n",
      "0  Q1786738   True  Lecythis  100.0  taxon  Q16521    Lecythis\n"
     ]
    },
    {
     "name": "stderr",
     "output_type": "stream",
     "text": [
      "100%|██████████| 1/1 [00:03<00:00,  3.19s/it]\n",
      "  0%|          | 0/1 [00:00<?, ?it/s]"
     ]
    },
    {
     "name": "stdout",
     "output_type": "stream",
     "text": [
      "       id  match      name  score   type type_id  input_value\n",
      "0  Q44448  False  Fabaceae  100.0  taxon  Q16521  Leguminosae\n"
     ]
    },
    {
     "name": "stderr",
     "output_type": "stream",
     "text": [
      "100%|██████████| 1/1 [00:03<00:00,  3.24s/it]\n",
      "  0%|          | 0/1 [00:00<?, ?it/s]"
     ]
    },
    {
     "name": "stdout",
     "output_type": "stream",
     "text": [
      "        id  match     name  score   type type_id input_value\n",
      "0  Q135759   True  Licania  100.0  taxon  Q16521     Licania\n"
     ]
    },
    {
     "name": "stderr",
     "output_type": "stream",
     "text": [
      "  0%|          | 0/1 [00:01<?, ?it/s]\n",
      "  0%|          | 0/1 [00:01<?, ?it/s]\n",
      "100%|██████████| 1/1 [00:03<00:00,  3.19s/it]\n",
      "  0%|          | 0/1 [00:00<?, ?it/s]"
     ]
    },
    {
     "name": "stdout",
     "output_type": "stream",
     "text": [
      "         id  match     name  score   type type_id input_value\n",
      "0  Q2346291  False  Eustoma  100.0  taxon  Q16521  Lisianthus\n"
     ]
    },
    {
     "name": "stderr",
     "output_type": "stream",
     "text": [
      "100%|██████████| 1/1 [00:03<00:00,  3.75s/it]\n",
      "  0%|          | 0/1 [00:00<?, ?it/s]"
     ]
    },
    {
     "name": "stdout",
     "output_type": "stream",
     "text": [
      "         id  match          name  score   type type_id   input_value\n",
      "0  Q1756340   True  Lonchocarpus  100.0  taxon  Q16521  Lonchocarpus\n"
     ]
    },
    {
     "name": "stderr",
     "output_type": "stream",
     "text": [
      "100%|██████████| 1/1 [00:03<00:00,  3.06s/it]\n",
      "  0%|          | 0/1 [00:00<?, ?it/s]"
     ]
    },
    {
     "name": "stdout",
     "output_type": "stream",
     "text": [
      "        id  match           name  score   type type_id    input_value\n",
      "0  Q632563   True  Malpighiaceae  100.0  taxon  Q16521  Malpighiaceae\n"
     ]
    },
    {
     "name": "stderr",
     "output_type": "stream",
     "text": [
      "100%|██████████| 1/1 [00:03<00:00,  3.12s/it]\n",
      "100%|██████████| 1/1 [00:00<00:00, 158.26it/s]\n",
      "  0%|          | 0/1 [00:00<?, ?it/s]"
     ]
    },
    {
     "name": "stdout",
     "output_type": "stream",
     "text": [
      "        id  match     name  score   type type_id input_value\n",
      "0  Q149056  False  Manihot  100.0  taxon  Q16521     Manihot\n",
      "        id  match     name  score   type type_id input_value\n",
      "0  Q149056  False  Manihot  100.0  taxon  Q16521     Manihot\n"
     ]
    },
    {
     "name": "stderr",
     "output_type": "stream",
     "text": [
      "100%|██████████| 1/1 [00:02<00:00,  2.90s/it]\n",
      "100%|██████████| 1/1 [00:00<00:00, 243.54it/s]\n",
      "  0%|          | 0/1 [00:00<?, ?it/s]"
     ]
    },
    {
     "name": "stdout",
     "output_type": "stream",
     "text": [
      "        id  match         name  score   type type_id input_value\n",
      "0  Q503296  False  Marantaceae  100.0  taxon  Q16521     Maranta\n",
      "        id  match         name  score   type type_id input_value\n",
      "0  Q503296  False  Marantaceae  100.0  taxon  Q16521     Maranta\n"
     ]
    },
    {
     "name": "stderr",
     "output_type": "stream",
     "text": [
      "100%|██████████| 1/1 [00:01<00:00,  1.88s/it]\n",
      "  0%|          | 0/1 [00:00<?, ?it/s]"
     ]
    },
    {
     "name": "stdout",
     "output_type": "stream",
     "text": [
      "         id  match               name  score   type type_id        input_value\n",
      "0  Q1016320  False  Mauritia flexuosa  100.0  taxon  Q16521  Mauritia vinifera\n"
     ]
    },
    {
     "name": "stderr",
     "output_type": "stream",
     "text": [
      "100%|██████████| 1/1 [00:02<00:00,  2.35s/it]\n",
      "  0%|          | 0/1 [00:00<?, ?it/s]"
     ]
    },
    {
     "name": "stdout",
     "output_type": "stream",
     "text": [
      "        id  match    name  score   type type_id input_value\n",
      "0  Q131609   True  Mayaca  100.0  taxon  Q16521      Mayaca\n"
     ]
    },
    {
     "name": "stderr",
     "output_type": "stream",
     "text": [
      "100%|██████████| 1/1 [00:02<00:00,  2.10s/it]\n",
      "100%|██████████| 1/1 [00:00<00:00, 139.07it/s]\n",
      "100%|██████████| 1/1 [00:00<00:00, 123.39it/s]\n",
      "100%|██████████| 1/1 [00:00<00:00, 156.94it/s]\n",
      "100%|██████████| 1/1 [00:00<00:00, 146.21it/s]\n",
      "100%|██████████| 1/1 [00:00<00:00, 107.60it/s]\n",
      "100%|██████████| 1/1 [00:00<00:00, 110.69it/s]\n",
      "100%|██████████| 1/1 [00:00<00:00, 135.16it/s]\n",
      "  0%|          | 0/1 [00:00<?, ?it/s]"
     ]
    },
    {
     "name": "stdout",
     "output_type": "stream",
     "text": [
      "        id  match             name  score   type type_id   input_value\n",
      "0  Q648380   True  Melastomataceae   96.0  taxon  Q16521  Melastomacea\n",
      "        id  match             name  score   type type_id   input_value\n",
      "0  Q648380   True  Melastomataceae   96.0  taxon  Q16521  Melastomacea\n",
      "        id  match             name  score   type type_id   input_value\n",
      "0  Q648380   True  Melastomataceae   96.0  taxon  Q16521  Melastomacea\n",
      "        id  match             name  score   type type_id   input_value\n",
      "0  Q648380   True  Melastomataceae   96.0  taxon  Q16521  Melastomacea\n",
      "        id  match             name  score   type type_id   input_value\n",
      "0  Q648380   True  Melastomataceae   96.0  taxon  Q16521  Melastomacea\n",
      "        id  match             name  score   type type_id   input_value\n",
      "0  Q648380   True  Melastomataceae   96.0  taxon  Q16521  Melastomacea\n",
      "        id  match             name  score   type type_id   input_value\n",
      "0  Q648380   True  Melastomataceae   96.0  taxon  Q16521  Melastomacea\n",
      "        id  match             name  score   type type_id   input_value\n",
      "0  Q648380   True  Melastomataceae   96.0  taxon  Q16521  Melastomacea\n"
     ]
    },
    {
     "name": "stderr",
     "output_type": "stream",
     "text": [
      "100%|██████████| 1/1 [00:03<00:00,  3.11s/it]\n",
      "  0%|          | 0/1 [00:00<?, ?it/s]"
     ]
    },
    {
     "name": "stdout",
     "output_type": "stream",
     "text": [
      "        id  match       name  score   type type_id input_value\n",
      "0  Q138918   True  Melothria  100.0  taxon  Q16521   Melothria\n"
     ]
    },
    {
     "name": "stderr",
     "output_type": "stream",
     "text": [
      "  0%|          | 0/1 [00:01<?, ?it/s]\n",
      "  0%|          | 0/1 [00:01<?, ?it/s]\n",
      "100%|██████████| 1/1 [00:01<00:00,  1.63s/it]\n",
      "  0%|          | 0/1 [00:00<?, ?it/s]"
     ]
    },
    {
     "name": "stdout",
     "output_type": "stream",
     "text": [
      "       id  match      name  score   type type_id input_value\n",
      "0  Q44448  False  Fabaceae   95.0  taxon  Q16521   Mimosacea\n"
     ]
    },
    {
     "name": "stderr",
     "output_type": "stream",
     "text": [
      "100%|██████████| 1/1 [00:02<00:00,  2.97s/it]\n",
      "100%|██████████| 1/1 [00:00<00:00, 108.13it/s]\n",
      "100%|██████████| 1/1 [00:00<00:00, 169.41it/s]\n",
      "100%|██████████| 1/1 [00:00<00:00, 183.61it/s]\n",
      "  0%|          | 0/1 [00:00<?, ?it/s]"
     ]
    },
    {
     "name": "stdout",
     "output_type": "stream",
     "text": [
      "        id  match           name  score   type type_id input_value\n",
      "0  Q148532  False  Mimosa pudica  100.0  taxon  Q16521      Mimosa\n",
      "        id  match           name  score   type type_id input_value\n",
      "0  Q148532  False  Mimosa pudica  100.0  taxon  Q16521      Mimosa\n",
      "        id  match           name  score   type type_id input_value\n",
      "0  Q148532  False  Mimosa pudica  100.0  taxon  Q16521      Mimosa\n",
      "        id  match           name  score   type type_id input_value\n",
      "0  Q148532  False  Mimosa pudica  100.0  taxon  Q16521      Mimosa\n"
     ]
    },
    {
     "name": "stderr",
     "output_type": "stream",
     "text": [
      "  0%|          | 0/1 [00:01<?, ?it/s]\n",
      "  0%|          | 0/1 [00:01<?, ?it/s]\n",
      "  0%|          | 0/1 [00:01<?, ?it/s]\n",
      "100%|██████████| 1/1 [00:03<00:00,  3.39s/it]\n",
      "  0%|          | 0/1 [00:00<?, ?it/s]"
     ]
    },
    {
     "name": "stdout",
     "output_type": "stream",
     "text": [
      "         id  match     name  score   type type_id input_value\n",
      "0  Q2032773   True  Mouriri  100.0  taxon  Q16521     Mouriri\n"
     ]
    },
    {
     "name": "stderr",
     "output_type": "stream",
     "text": [
      "  0%|          | 0/1 [00:01<?, ?it/s]\n",
      "100%|██████████| 1/1 [00:02<00:00,  2.82s/it]\n",
      "  0%|          | 0/1 [00:00<?, ?it/s]"
     ]
    },
    {
     "name": "stdout",
     "output_type": "stream",
     "text": [
      "         id  match       name  score   type type_id input_value\n",
      "0  Q1878350   True  Myristica  100.0  taxon  Q16521   Myristica\n"
     ]
    },
    {
     "name": "stderr",
     "output_type": "stream",
     "text": [
      "100%|██████████| 1/1 [00:02<00:00,  2.70s/it]\n",
      "100%|██████████| 1/1 [00:00<00:00, 173.20it/s]\n",
      "100%|██████████| 1/1 [00:00<00:00, 179.55it/s]\n",
      "100%|██████████| 1/1 [00:00<00:00, 185.03it/s]\n",
      "100%|██████████| 1/1 [00:00<00:00, 223.60it/s]\n",
      "100%|██████████| 1/1 [00:00<00:00, 219.59it/s]\n",
      "100%|██████████| 1/1 [00:00<00:00, 149.06it/s]\n",
      "100%|██████████| 1/1 [00:00<00:00, 194.87it/s]\n",
      "100%|██████████| 1/1 [00:00<00:00, 196.33it/s]\n",
      "100%|██████████| 1/1 [00:00<00:00, 103.12it/s]\n",
      "  0%|          | 0/1 [00:00<?, ?it/s]"
     ]
    },
    {
     "name": "stdout",
     "output_type": "stream",
     "text": [
      "        id  match       name  score   type type_id input_value\n",
      "0  Q156563  False  Myrtaceae   94.0  taxon  Q16521    Myrtacea\n",
      "        id  match       name  score   type type_id input_value\n",
      "0  Q156563  False  Myrtaceae   94.0  taxon  Q16521    Myrtacea\n",
      "        id  match       name  score   type type_id input_value\n",
      "0  Q156563  False  Myrtaceae   94.0  taxon  Q16521    Myrtacea\n",
      "        id  match       name  score   type type_id input_value\n",
      "0  Q156563  False  Myrtaceae   94.0  taxon  Q16521    Myrtacea\n",
      "        id  match       name  score   type type_id input_value\n",
      "0  Q156563  False  Myrtaceae   94.0  taxon  Q16521    Myrtacea\n",
      "        id  match       name  score   type type_id input_value\n",
      "0  Q156563  False  Myrtaceae   94.0  taxon  Q16521    Myrtacea\n",
      "        id  match       name  score   type type_id input_value\n",
      "0  Q156563  False  Myrtaceae   94.0  taxon  Q16521    Myrtacea\n",
      "        id  match       name  score   type type_id input_value\n",
      "0  Q156563  False  Myrtaceae   94.0  taxon  Q16521    Myrtacea\n",
      "        id  match       name  score   type type_id input_value\n",
      "0  Q156563  False  Myrtaceae   94.0  taxon  Q16521    Myrtacea\n",
      "        id  match       name  score   type type_id input_value\n",
      "0  Q156563  False  Myrtaceae   94.0  taxon  Q16521    Myrtacea\n"
     ]
    },
    {
     "name": "stderr",
     "output_type": "stream",
     "text": [
      "  0%|          | 0/1 [00:01<?, ?it/s]\n",
      "  0%|          | 0/1 [00:01<?, ?it/s]\n",
      "  0%|          | 0/1 [00:01<?, ?it/s]\n",
      "100%|██████████| 1/1 [00:03<00:00,  3.19s/it]\n",
      "100%|██████████| 1/1 [00:00<00:00, 133.17it/s]\n",
      "100%|██████████| 1/1 [00:00<00:00, 128.57it/s]\n",
      "100%|██████████| 1/1 [00:00<00:00, 104.54it/s]\n",
      "100%|██████████| 1/1 [00:00<00:00, 123.50it/s]\n",
      "100%|██████████| 1/1 [00:00<00:00, 107.65it/s]\n",
      "100%|██████████| 1/1 [00:00<00:00, 146.26it/s]\n",
      "100%|██████████| 1/1 [00:00<00:00, 163.50it/s]\n",
      "100%|██████████| 1/1 [00:00<00:00, 119.98it/s]\n",
      "100%|██████████| 1/1 [00:00<00:00, 108.76it/s]\n",
      "  0%|          | 0/1 [00:00<?, ?it/s]"
     ]
    },
    {
     "name": "stdout",
     "output_type": "stream",
     "text": [
      "       id  match         name  score   type type_id input_value\n",
      "0  Q25308  False  Orchidaceae  100.0  taxon  Q16521    Orchidea\n",
      "       id  match         name  score   type type_id input_value\n",
      "0  Q25308  False  Orchidaceae  100.0  taxon  Q16521    Orchidea\n",
      "       id  match         name  score   type type_id input_value\n",
      "0  Q25308  False  Orchidaceae  100.0  taxon  Q16521    Orchidea\n",
      "       id  match         name  score   type type_id input_value\n",
      "0  Q25308  False  Orchidaceae  100.0  taxon  Q16521    Orchidea\n",
      "       id  match         name  score   type type_id input_value\n",
      "0  Q25308  False  Orchidaceae  100.0  taxon  Q16521    Orchidea\n",
      "       id  match         name  score   type type_id input_value\n",
      "0  Q25308  False  Orchidaceae  100.0  taxon  Q16521    Orchidea\n",
      "       id  match         name  score   type type_id input_value\n",
      "0  Q25308  False  Orchidaceae  100.0  taxon  Q16521    Orchidea\n",
      "       id  match         name  score   type type_id input_value\n",
      "0  Q25308  False  Orchidaceae  100.0  taxon  Q16521    Orchidea\n",
      "       id  match         name  score   type type_id input_value\n",
      "0  Q25308  False  Orchidaceae  100.0  taxon  Q16521    Orchidea\n",
      "       id  match         name  score   type type_id input_value\n",
      "0  Q25308  False  Orchidaceae  100.0  taxon  Q16521    Orchidea\n"
     ]
    },
    {
     "name": "stderr",
     "output_type": "stream",
     "text": [
      "100%|██████████| 1/1 [00:00<00:00, 83.70it/s]\n",
      "  0%|          | 0/1 [00:00<?, ?it/s]"
     ]
    },
    {
     "name": "stdout",
     "output_type": "stream",
     "text": [
      "       id  match         name  score   type type_id input_value\n",
      "0  Q25308  False  Orchidaceae  100.0  taxon  Q16521    Orchidea\n"
     ]
    },
    {
     "name": "stderr",
     "output_type": "stream",
     "text": [
      "100%|██████████| 1/1 [00:02<00:00,  2.86s/it]\n",
      "  0%|          | 0/1 [00:00<?, ?it/s]"
     ]
    },
    {
     "name": "stdout",
     "output_type": "stream",
     "text": [
      "         id  match     name  score   type type_id input_value\n",
      "0  Q2872596  False  Ormosia  100.0  taxon  Q16521     Ormosia\n"
     ]
    },
    {
     "name": "stderr",
     "output_type": "stream",
     "text": [
      "  0%|          | 0/1 [00:01<?, ?it/s]\n",
      "  0%|          | 0/1 [00:01<?, ?it/s]\n",
      "100%|██████████| 1/1 [00:03<00:00,  3.62s/it]\n",
      "  0%|          | 0/1 [00:00<?, ?it/s]"
     ]
    },
    {
     "name": "stdout",
     "output_type": "stream",
     "text": [
      "        id  match    name  score   type type_id input_value\n",
      "0  Q157378   True  Oxalis  100.0  taxon  Q16521      Oxalis\n"
     ]
    },
    {
     "name": "stderr",
     "output_type": "stream",
     "text": [
      "100%|██████████| 1/1 [00:03<00:00,  3.22s/it]\n",
      "100%|██████████| 1/1 [00:00<00:00, 156.31it/s]\n",
      "  0%|          | 0/1 [00:00<?, ?it/s]"
     ]
    },
    {
     "name": "stdout",
     "output_type": "stream",
     "text": [
      "         id  match        name  score   type type_id input_value\n",
      "0  Q3292003   True  Palicourea  100.0  taxon  Q16521  Palicourea\n",
      "         id  match        name  score   type type_id input_value\n",
      "0  Q3292003   True  Palicourea  100.0  taxon  Q16521  Palicourea\n"
     ]
    },
    {
     "name": "stderr",
     "output_type": "stream",
     "text": [
      "  0%|          | 0/1 [00:01<?, ?it/s]\n",
      "100%|██████████| 1/1 [00:03<00:00,  3.26s/it]\n",
      "  0%|          | 0/1 [00:00<?, ?it/s]"
     ]
    },
    {
     "name": "stdout",
     "output_type": "stream",
     "text": [
      "        id  match    name  score   type type_id input_value\n",
      "0  Q135404   True  Parkia  100.0  taxon  Q16521      Parkia\n"
     ]
    },
    {
     "name": "stderr",
     "output_type": "stream",
     "text": [
      "  0%|          | 0/1 [00:01<?, ?it/s]\n",
      "  0%|          | 0/1 [00:01<?, ?it/s]\n",
      "  0%|          | 0/1 [00:01<?, ?it/s]\n",
      "100%|██████████| 1/1 [00:03<00:00,  3.39s/it]\n",
      "  0%|          | 0/1 [00:00<?, ?it/s]"
     ]
    },
    {
     "name": "stdout",
     "output_type": "stream",
     "text": [
      "        id  match        name  score   type type_id input_value\n",
      "0  Q161185  False  Passiflora  100.0  taxon  Q16521  Passiflora\n"
     ]
    },
    {
     "name": "stderr",
     "output_type": "stream",
     "text": [
      "  0%|          | 0/1 [00:01<?, ?it/s]\n",
      "  0%|          | 0/1 [00:01<?, ?it/s]\n",
      "  0%|          | 0/1 [00:01<?, ?it/s]\n",
      "  0%|          | 0/1 [00:01<?, ?it/s]\n",
      "  0%|          | 0/1 [00:01<?, ?it/s]\n",
      "100%|██████████| 1/1 [00:03<00:00,  3.50s/it]\n",
      "  0%|          | 0/1 [00:00<?, ?it/s]"
     ]
    },
    {
     "name": "stdout",
     "output_type": "stream",
     "text": [
      "        id  match       name  score   type type_id input_value\n",
      "0  Q310438  False  Phaseolus  100.0  taxon  Q16521   Phaseolus\n"
     ]
    },
    {
     "name": "stderr",
     "output_type": "stream",
     "text": [
      "100%|██████████| 1/1 [00:03<00:00,  3.14s/it]\n",
      "  0%|          | 0/1 [00:00<?, ?it/s]"
     ]
    },
    {
     "name": "stdout",
     "output_type": "stream",
     "text": [
      "        id  match          name  score   type type_id   input_value\n",
      "0  Q131880   True  Philodendron  100.0  taxon  Q16521  Philodendron\n"
     ]
    },
    {
     "name": "stderr",
     "output_type": "stream",
     "text": [
      "100%|██████████| 1/1 [00:03<00:00,  3.43s/it]\n",
      "  0%|          | 0/1 [00:00<?, ?it/s]"
     ]
    },
    {
     "name": "stdout",
     "output_type": "stream",
     "text": [
      "        id  match         name  score   type type_id  input_value\n",
      "0  Q310927  False  Phyllanthus  100.0  taxon  Q16521  Phyllanthus\n"
     ]
    },
    {
     "name": "stderr",
     "output_type": "stream",
     "text": [
      "100%|██████████| 1/1 [00:02<00:00,  2.26s/it]\n",
      "  0%|          | 0/1 [00:00<?, ?it/s]"
     ]
    },
    {
     "name": "stdout",
     "output_type": "stream",
     "text": [
      "        id  match        name  score   type type_id   input_value\n",
      "0  Q310964  False  Epiphyllum  100.0  taxon  Q16521  Phyllocactus\n"
     ]
    },
    {
     "name": "stderr",
     "output_type": "stream",
     "text": [
      "100%|██████████| 1/1 [00:03<00:00,  3.23s/it]\n",
      "  0%|          | 0/1 [00:00<?, ?it/s]"
     ]
    },
    {
     "name": "stdout",
     "output_type": "stream",
     "text": [
      "        id  match      name  score   type type_id input_value\n",
      "0  Q158663  False  Physalis  100.0  taxon  Q16521    Physalis\n"
     ]
    },
    {
     "name": "stderr",
     "output_type": "stream",
     "text": [
      "  0%|          | 0/1 [00:01<?, ?it/s]\n",
      "100%|██████████| 1/1 [00:02<00:00,  2.67s/it]\n",
      "  0%|          | 0/1 [00:00<?, ?it/s]"
     ]
    },
    {
     "name": "stdout",
     "output_type": "stream",
     "text": [
      "         id  match       name  score   type type_id input_value\n",
      "0  Q1131849   True  Picramnia  100.0  taxon  Q16521   Picramnia\n"
     ]
    },
    {
     "name": "stderr",
     "output_type": "stream",
     "text": [
      "100%|██████████| 1/1 [00:02<00:00,  2.44s/it]\n",
      "  0%|          | 0/1 [00:00<?, ?it/s]"
     ]
    },
    {
     "name": "stdout",
     "output_type": "stream",
     "text": [
      "         id  match      name  score   type type_id        input_value\n",
      "0  Q2654886  False  Platonia  100.0  taxon  Q16521  Platonia insignis\n"
     ]
    },
    {
     "name": "stderr",
     "output_type": "stream",
     "text": [
      "  0%|          | 0/1 [00:01<?, ?it/s]\n",
      "100%|██████████| 1/1 [00:03<00:00,  3.56s/it]\n",
      "100%|██████████| 1/1 [00:00<00:00, 144.36it/s]\n",
      "100%|██████████| 1/1 [00:00<00:00, 186.48it/s]\n",
      "  0%|          | 0/1 [00:00<?, ?it/s]"
     ]
    },
    {
     "name": "stdout",
     "output_type": "stream",
     "text": [
      "        id  match      name  score   type type_id input_value\n",
      "0  Q156909   True  Polygala  100.0  taxon  Q16521    Polygala\n",
      "        id  match      name  score   type type_id input_value\n",
      "0  Q156909   True  Polygala  100.0  taxon  Q16521    Polygala\n",
      "        id  match      name  score   type type_id input_value\n",
      "0  Q156909   True  Polygala  100.0  taxon  Q16521    Polygala\n"
     ]
    },
    {
     "name": "stderr",
     "output_type": "stream",
     "text": [
      "  0%|          | 0/1 [00:01<?, ?it/s]\n",
      "  0%|          | 0/1 [00:01<?, ?it/s]\n",
      "  0%|          | 0/1 [00:01<?, ?it/s]\n",
      "100%|██████████| 1/1 [00:03<00:00,  3.59s/it]\n",
      "  0%|          | 0/1 [00:00<?, ?it/s]"
     ]
    },
    {
     "name": "stdout",
     "output_type": "stream",
     "text": [
      "        id  match                name  score   type type_id  \\\n",
      "0  Q158015  False  Portulaca oleracea   95.0  taxon  Q16521   \n",
      "\n",
      "             input_value  \n",
      "0  Portulaca oleracea, L  \n"
     ]
    },
    {
     "name": "stderr",
     "output_type": "stream",
     "text": [
      "  0%|          | 0/1 [00:01<?, ?it/s]\n",
      "100%|██████████| 1/1 [00:03<00:00,  3.17s/it]\n",
      "  0%|          | 0/1 [00:00<?, ?it/s]"
     ]
    },
    {
     "name": "stdout",
     "output_type": "stream",
     "text": [
      "        id  match                name  score   type type_id input_value\n",
      "0  Q158015  False  Portulaca oleracea  100.0  taxon  Q16521   Portulaca\n"
     ]
    },
    {
     "name": "stderr",
     "output_type": "stream",
     "text": [
      "  0%|          | 0/1 [00:01<?, ?it/s]\n",
      "100%|██████████| 1/1 [00:02<00:00,  2.91s/it]\n",
      "  0%|          | 0/1 [00:00<?, ?it/s]"
     ]
    },
    {
     "name": "stdout",
     "output_type": "stream",
     "text": [
      "        id  match        name  score   type type_id input_value\n",
      "0  Q157228   True  Proteaceae  100.0  taxon  Q16521  Proteaceae\n"
     ]
    },
    {
     "name": "stderr",
     "output_type": "stream",
     "text": [
      "100%|██████████| 1/1 [00:03<00:00,  3.10s/it]\n",
      "100%|██████████| 1/1 [00:00<00:00, 203.18it/s]\n",
      "  0%|          | 0/1 [00:00<?, ?it/s]"
     ]
    },
    {
     "name": "stdout",
     "output_type": "stream",
     "text": [
      "        id  match     name  score   type type_id input_value\n",
      "0  Q320179   True  Psidium  100.0  taxon  Q16521     Psidium\n",
      "        id  match     name  score   type type_id input_value\n",
      "0  Q320179   True  Psidium  100.0  taxon  Q16521     Psidium\n"
     ]
    },
    {
     "name": "stderr",
     "output_type": "stream",
     "text": [
      "  0%|          | 0/1 [00:01<?, ?it/s]\n",
      "  0%|          | 0/1 [00:01<?, ?it/s]\n",
      "  0%|          | 0/1 [00:01<?, ?it/s]\n",
      "100%|██████████| 1/1 [00:02<00:00,  2.82s/it]\n",
      "  0%|          | 0/1 [00:00<?, ?it/s]"
     ]
    },
    {
     "name": "stdout",
     "output_type": "stream",
     "text": [
      "        id  match        name  score   type type_id input_value\n",
      "0  Q904250   True  Psychotria  100.0  taxon  Q16521  Psychotria\n"
     ]
    },
    {
     "name": "stderr",
     "output_type": "stream",
     "text": [
      "100%|██████████| 1/1 [00:03<00:00,  3.11s/it]\n",
      "  0%|          | 0/1 [00:00<?, ?it/s]"
     ]
    },
    {
     "name": "stdout",
     "output_type": "stream",
     "text": [
      "         id  match    name  score   type type_id input_value\n",
      "0  Q7268624   True  Qualea  100.0  taxon  Q16521      Qualea\n"
     ]
    },
    {
     "name": "stderr",
     "output_type": "stream",
     "text": [
      "  0%|          | 0/1 [00:01<?, ?it/s]\n",
      "100%|██████████| 1/1 [00:03<00:00,  3.06s/it]\n",
      "  0%|          | 0/1 [00:00<?, ?it/s]"
     ]
    },
    {
     "name": "stdout",
     "output_type": "stream",
     "text": [
      "        id  match       name  score   type type_id input_value\n",
      "0  Q143783   True  Renealmia  100.0  taxon  Q16521   Renealmia\n"
     ]
    },
    {
     "name": "stderr",
     "output_type": "stream",
     "text": [
      "100%|██████████| 1/1 [00:02<00:00,  2.87s/it]\n",
      "  0%|          | 0/1 [00:00<?, ?it/s]"
     ]
    },
    {
     "name": "stdout",
     "output_type": "stream",
     "text": [
      "        id  match      name  score   type type_id input_value\n",
      "0  Q311454  False  Garcinia  100.0  taxon  Q16521     Rheedia\n"
     ]
    },
    {
     "name": "stderr",
     "output_type": "stream",
     "text": [
      "  0%|          | 0/1 [00:01<?, ?it/s]\n",
      "  0%|          | 0/1 [00:01<?, ?it/s]\n",
      "100%|██████████| 1/1 [00:00<00:00, 44.00it/s]\n",
      "100%|██████████| 1/1 [00:00<00:00, 146.56it/s]\n",
      "100%|██████████| 1/1 [00:00<00:00, 146.10it/s]\n",
      "100%|██████████| 1/1 [00:00<00:00, 100.68it/s]\n",
      "100%|██████████| 1/1 [00:00<00:00, 88.00it/s]\n",
      "100%|██████████| 1/1 [00:00<00:00, 155.00it/s]\n",
      "100%|██████████| 1/1 [00:00<00:00, 213.28it/s]\n",
      "100%|██████████| 1/1 [00:00<00:00, 165.94it/s]\n",
      "100%|██████████| 1/1 [00:00<00:00, 111.99it/s]\n",
      "100%|██████████| 1/1 [00:00<00:00, 87.38it/s]\n"
     ]
    },
    {
     "name": "stdout",
     "output_type": "stream",
     "text": [
      "        id  match       name  score   type type_id input_value\n",
      "0  Q156569   True  Rubiaceae  100.0  taxon  Q16521   Rubiaceae\n",
      "        id  match       name  score   type type_id input_value\n",
      "0  Q156569   True  Rubiaceae  100.0  taxon  Q16521   Rubiaceae\n",
      "        id  match       name  score   type type_id input_value\n",
      "0  Q156569   True  Rubiaceae  100.0  taxon  Q16521   Rubiaceae\n",
      "        id  match       name  score   type type_id input_value\n",
      "0  Q156569   True  Rubiaceae  100.0  taxon  Q16521   Rubiaceae\n",
      "        id  match       name  score   type type_id input_value\n",
      "0  Q156569   True  Rubiaceae  100.0  taxon  Q16521   Rubiaceae\n",
      "        id  match       name  score   type type_id input_value\n",
      "0  Q156569   True  Rubiaceae  100.0  taxon  Q16521   Rubiaceae\n",
      "        id  match       name  score   type type_id input_value\n",
      "0  Q156569   True  Rubiaceae  100.0  taxon  Q16521   Rubiaceae\n",
      "        id  match       name  score   type type_id input_value\n",
      "0  Q156569   True  Rubiaceae  100.0  taxon  Q16521   Rubiaceae\n",
      "        id  match       name  score   type type_id input_value\n",
      "0  Q156569   True  Rubiaceae  100.0  taxon  Q16521   Rubiaceae\n",
      "        id  match       name  score   type type_id input_value\n",
      "0  Q156569   True  Rubiaceae  100.0  taxon  Q16521   Rubiaceae\n"
     ]
    },
    {
     "data": {
      "text/html": [
       "<div>\n",
       "<style scoped>\n",
       "    .dataframe tbody tr th:only-of-type {\n",
       "        vertical-align: middle;\n",
       "    }\n",
       "\n",
       "    .dataframe tbody tr th {\n",
       "        vertical-align: top;\n",
       "    }\n",
       "\n",
       "    .dataframe thead th {\n",
       "        text-align: right;\n",
       "    }\n",
       "</style>\n",
       "<table border=\"1\" class=\"dataframe\">\n",
       "  <thead>\n",
       "    <tr style=\"text-align: right;\">\n",
       "      <th></th>\n",
       "      <th>id</th>\n",
       "      <th>match</th>\n",
       "      <th>name</th>\n",
       "      <th>score</th>\n",
       "      <th>type</th>\n",
       "      <th>type_id</th>\n",
       "      <th>input_value</th>\n",
       "    </tr>\n",
       "  </thead>\n",
       "  <tbody>\n",
       "    <tr>\n",
       "      <th>0</th>\n",
       "      <td>Q156569</td>\n",
       "      <td>True</td>\n",
       "      <td>Rubiaceae</td>\n",
       "      <td>100.0</td>\n",
       "      <td>taxon</td>\n",
       "      <td>Q16521</td>\n",
       "      <td>Rubiaceae</td>\n",
       "    </tr>\n",
       "    <tr>\n",
       "      <th>0</th>\n",
       "      <td>Q8251823</td>\n",
       "      <td>True</td>\n",
       "      <td>Bredemeyera</td>\n",
       "      <td>100.0</td>\n",
       "      <td>taxon</td>\n",
       "      <td>Q16521</td>\n",
       "      <td>Bredemeyera</td>\n",
       "    </tr>\n",
       "    <tr>\n",
       "      <th>0</th>\n",
       "      <td>Q3300065</td>\n",
       "      <td>True</td>\n",
       "      <td>Casasia</td>\n",
       "      <td>100.0</td>\n",
       "      <td>taxon</td>\n",
       "      <td>Q16521</td>\n",
       "      <td>Büttneria</td>\n",
       "    </tr>\n",
       "    <tr>\n",
       "      <th>0</th>\n",
       "      <td>Q3279490</td>\n",
       "      <td>True</td>\n",
       "      <td>Byrsonima</td>\n",
       "      <td>100.0</td>\n",
       "      <td>taxon</td>\n",
       "      <td>Q16521</td>\n",
       "      <td>Byrsonima</td>\n",
       "    </tr>\n",
       "    <tr>\n",
       "      <th>0</th>\n",
       "      <td>Q1650700</td>\n",
       "      <td>True</td>\n",
       "      <td>Calathea</td>\n",
       "      <td>100.0</td>\n",
       "      <td>taxon</td>\n",
       "      <td>Q16521</td>\n",
       "      <td>Calathea</td>\n",
       "    </tr>\n",
       "    <tr>\n",
       "      <th>...</th>\n",
       "      <td>...</td>\n",
       "      <td>...</td>\n",
       "      <td>...</td>\n",
       "      <td>...</td>\n",
       "      <td>...</td>\n",
       "      <td>...</td>\n",
       "      <td>...</td>\n",
       "    </tr>\n",
       "    <tr>\n",
       "      <th>0</th>\n",
       "      <td>Q156569</td>\n",
       "      <td>True</td>\n",
       "      <td>Rubiaceae</td>\n",
       "      <td>100.0</td>\n",
       "      <td>taxon</td>\n",
       "      <td>Q16521</td>\n",
       "      <td>Rubiaceae</td>\n",
       "    </tr>\n",
       "    <tr>\n",
       "      <th>0</th>\n",
       "      <td>Q156569</td>\n",
       "      <td>True</td>\n",
       "      <td>Rubiaceae</td>\n",
       "      <td>100.0</td>\n",
       "      <td>taxon</td>\n",
       "      <td>Q16521</td>\n",
       "      <td>Rubiaceae</td>\n",
       "    </tr>\n",
       "    <tr>\n",
       "      <th>0</th>\n",
       "      <td>Q156569</td>\n",
       "      <td>True</td>\n",
       "      <td>Rubiaceae</td>\n",
       "      <td>100.0</td>\n",
       "      <td>taxon</td>\n",
       "      <td>Q16521</td>\n",
       "      <td>Rubiaceae</td>\n",
       "    </tr>\n",
       "    <tr>\n",
       "      <th>0</th>\n",
       "      <td>Q156569</td>\n",
       "      <td>True</td>\n",
       "      <td>Rubiaceae</td>\n",
       "      <td>100.0</td>\n",
       "      <td>taxon</td>\n",
       "      <td>Q16521</td>\n",
       "      <td>Rubiaceae</td>\n",
       "    </tr>\n",
       "    <tr>\n",
       "      <th>0</th>\n",
       "      <td>Q156569</td>\n",
       "      <td>True</td>\n",
       "      <td>Rubiaceae</td>\n",
       "      <td>100.0</td>\n",
       "      <td>taxon</td>\n",
       "      <td>Q16521</td>\n",
       "      <td>Rubiaceae</td>\n",
       "    </tr>\n",
       "  </tbody>\n",
       "</table>\n",
       "<p>250 rows × 7 columns</p>\n",
       "</div>"
      ],
      "text/plain": [
       "          id  match         name  score   type type_id  input_value\n",
       "0    Q156569   True    Rubiaceae  100.0  taxon  Q16521    Rubiaceae\n",
       "0   Q8251823   True  Bredemeyera  100.0  taxon  Q16521  Bredemeyera\n",
       "0   Q3300065   True      Casasia  100.0  taxon  Q16521    Büttneria\n",
       "0   Q3279490   True    Byrsonima  100.0  taxon  Q16521    Byrsonima\n",
       "0   Q1650700   True     Calathea  100.0  taxon  Q16521     Calathea\n",
       "..       ...    ...          ...    ...    ...     ...          ...\n",
       "0    Q156569   True    Rubiaceae  100.0  taxon  Q16521    Rubiaceae\n",
       "0    Q156569   True    Rubiaceae  100.0  taxon  Q16521    Rubiaceae\n",
       "0    Q156569   True    Rubiaceae  100.0  taxon  Q16521    Rubiaceae\n",
       "0    Q156569   True    Rubiaceae  100.0  taxon  Q16521    Rubiaceae\n",
       "0    Q156569   True    Rubiaceae  100.0  taxon  Q16521    Rubiaceae\n",
       "\n",
       "[250 rows x 7 columns]"
      ]
     },
     "execution_count": 5,
     "metadata": {},
     "output_type": "execute_result"
    }
   ],
   "source": [
    "from reconciler import reconcile\n",
    "import pandas as pd\n",
    "\n",
    "reconciled = reconcile(pd.Series([\"Rubiaceae\"]), type_id=\"Q16521\")\n",
    "\n",
    "for i in df[\"itemLabel\"]:\n",
    "    try:\n",
    "        new_recon = reconcile(pd.Series([i]), type_id=\"Q16521\")\n",
    "        print(new_recon)\n",
    "        reconciled = reconciled.append(new_recon)\n",
    "    except:\n",
    "        pass\n",
    "reconciled"
   ]
  },
  {
   "cell_type": "code",
   "execution_count": 6,
   "metadata": {},
   "outputs": [],
   "source": [
    "reconciled = reconciled[reconciled[\"match\"] == True]"
   ]
  },
  {
   "cell_type": "code",
   "execution_count": 7,
   "metadata": {},
   "outputs": [],
   "source": [
    "reconciled = reconciled.merge(df,  left_on=\"input_value\", right_on=\"itemLabel\")"
   ]
  },
  {
   "cell_type": "code",
   "execution_count": 8,
   "metadata": {},
   "outputs": [
    {
     "name": "stdout",
     "output_type": "stream",
     "text": [
      "Q59824297|P180|Q156569|S887|Q69652283\n",
      "Q59824298|P180|Q156569|S887|Q69652283\n",
      "Q59825237|P180|Q156569|S887|Q69652283\n",
      "Q59825238|P180|Q156569|S887|Q69652283\n",
      "Q59825239|P180|Q156569|S887|Q69652283\n",
      "Q59825240|P180|Q156569|S887|Q69652283\n",
      "Q59825241|P180|Q156569|S887|Q69652283\n",
      "Q59825242|P180|Q156569|S887|Q69652283\n",
      "Q59825243|P180|Q156569|S887|Q69652283\n",
      "Q59825245|P180|Q156569|S887|Q69652283\n",
      "Q59825246|P180|Q156569|S887|Q69652283\n",
      "Q59825249|P180|Q156569|S887|Q69652283\n",
      "Q59824297|P180|Q156569|S887|Q69652283\n",
      "Q59824298|P180|Q156569|S887|Q69652283\n",
      "Q59825237|P180|Q156569|S887|Q69652283\n",
      "Q59825238|P180|Q156569|S887|Q69652283\n",
      "Q59825239|P180|Q156569|S887|Q69652283\n",
      "Q59825240|P180|Q156569|S887|Q69652283\n",
      "Q59825241|P180|Q156569|S887|Q69652283\n",
      "Q59825242|P180|Q156569|S887|Q69652283\n",
      "Q59825243|P180|Q156569|S887|Q69652283\n",
      "Q59825245|P180|Q156569|S887|Q69652283\n",
      "Q59825246|P180|Q156569|S887|Q69652283\n",
      "Q59825249|P180|Q156569|S887|Q69652283\n",
      "Q59824297|P180|Q156569|S887|Q69652283\n",
      "Q59824298|P180|Q156569|S887|Q69652283\n",
      "Q59825237|P180|Q156569|S887|Q69652283\n",
      "Q59825238|P180|Q156569|S887|Q69652283\n",
      "Q59825239|P180|Q156569|S887|Q69652283\n",
      "Q59825240|P180|Q156569|S887|Q69652283\n",
      "Q59825241|P180|Q156569|S887|Q69652283\n",
      "Q59825242|P180|Q156569|S887|Q69652283\n",
      "Q59825243|P180|Q156569|S887|Q69652283\n",
      "Q59825245|P180|Q156569|S887|Q69652283\n",
      "Q59825246|P180|Q156569|S887|Q69652283\n",
      "Q59825249|P180|Q156569|S887|Q69652283\n",
      "Q59824297|P180|Q156569|S887|Q69652283\n",
      "Q59824298|P180|Q156569|S887|Q69652283\n",
      "Q59825237|P180|Q156569|S887|Q69652283\n",
      "Q59825238|P180|Q156569|S887|Q69652283\n",
      "Q59825239|P180|Q156569|S887|Q69652283\n",
      "Q59825240|P180|Q156569|S887|Q69652283\n",
      "Q59825241|P180|Q156569|S887|Q69652283\n",
      "Q59825242|P180|Q156569|S887|Q69652283\n",
      "Q59825243|P180|Q156569|S887|Q69652283\n",
      "Q59825245|P180|Q156569|S887|Q69652283\n",
      "Q59825246|P180|Q156569|S887|Q69652283\n",
      "Q59825249|P180|Q156569|S887|Q69652283\n",
      "Q59824297|P180|Q156569|S887|Q69652283\n",
      "Q59824298|P180|Q156569|S887|Q69652283\n",
      "Q59825237|P180|Q156569|S887|Q69652283\n",
      "Q59825238|P180|Q156569|S887|Q69652283\n",
      "Q59825239|P180|Q156569|S887|Q69652283\n",
      "Q59825240|P180|Q156569|S887|Q69652283\n",
      "Q59825241|P180|Q156569|S887|Q69652283\n",
      "Q59825242|P180|Q156569|S887|Q69652283\n",
      "Q59825243|P180|Q156569|S887|Q69652283\n",
      "Q59825245|P180|Q156569|S887|Q69652283\n",
      "Q59825246|P180|Q156569|S887|Q69652283\n",
      "Q59825249|P180|Q156569|S887|Q69652283\n",
      "Q59824297|P180|Q156569|S887|Q69652283\n",
      "Q59824298|P180|Q156569|S887|Q69652283\n",
      "Q59825237|P180|Q156569|S887|Q69652283\n",
      "Q59825238|P180|Q156569|S887|Q69652283\n",
      "Q59825239|P180|Q156569|S887|Q69652283\n",
      "Q59825240|P180|Q156569|S887|Q69652283\n",
      "Q59825241|P180|Q156569|S887|Q69652283\n",
      "Q59825242|P180|Q156569|S887|Q69652283\n",
      "Q59825243|P180|Q156569|S887|Q69652283\n",
      "Q59825245|P180|Q156569|S887|Q69652283\n",
      "Q59825246|P180|Q156569|S887|Q69652283\n",
      "Q59825249|P180|Q156569|S887|Q69652283\n",
      "Q59824297|P180|Q156569|S887|Q69652283\n",
      "Q59824298|P180|Q156569|S887|Q69652283\n",
      "Q59825237|P180|Q156569|S887|Q69652283\n",
      "Q59825238|P180|Q156569|S887|Q69652283\n",
      "Q59825239|P180|Q156569|S887|Q69652283\n",
      "Q59825240|P180|Q156569|S887|Q69652283\n",
      "Q59825241|P180|Q156569|S887|Q69652283\n",
      "Q59825242|P180|Q156569|S887|Q69652283\n",
      "Q59825243|P180|Q156569|S887|Q69652283\n",
      "Q59825245|P180|Q156569|S887|Q69652283\n",
      "Q59825246|P180|Q156569|S887|Q69652283\n",
      "Q59825249|P180|Q156569|S887|Q69652283\n",
      "Q59824297|P180|Q156569|S887|Q69652283\n",
      "Q59824298|P180|Q156569|S887|Q69652283\n",
      "Q59825237|P180|Q156569|S887|Q69652283\n",
      "Q59825238|P180|Q156569|S887|Q69652283\n",
      "Q59825239|P180|Q156569|S887|Q69652283\n",
      "Q59825240|P180|Q156569|S887|Q69652283\n",
      "Q59825241|P180|Q156569|S887|Q69652283\n",
      "Q59825242|P180|Q156569|S887|Q69652283\n",
      "Q59825243|P180|Q156569|S887|Q69652283\n",
      "Q59825245|P180|Q156569|S887|Q69652283\n",
      "Q59825246|P180|Q156569|S887|Q69652283\n",
      "Q59825249|P180|Q156569|S887|Q69652283\n",
      "Q59824297|P180|Q156569|S887|Q69652283\n",
      "Q59824298|P180|Q156569|S887|Q69652283\n",
      "Q59825237|P180|Q156569|S887|Q69652283\n",
      "Q59825238|P180|Q156569|S887|Q69652283\n",
      "Q59825239|P180|Q156569|S887|Q69652283\n",
      "Q59825240|P180|Q156569|S887|Q69652283\n",
      "Q59825241|P180|Q156569|S887|Q69652283\n",
      "Q59825242|P180|Q156569|S887|Q69652283\n",
      "Q59825243|P180|Q156569|S887|Q69652283\n",
      "Q59825245|P180|Q156569|S887|Q69652283\n",
      "Q59825246|P180|Q156569|S887|Q69652283\n",
      "Q59825249|P180|Q156569|S887|Q69652283\n",
      "Q59824297|P180|Q156569|S887|Q69652283\n",
      "Q59824298|P180|Q156569|S887|Q69652283\n",
      "Q59825237|P180|Q156569|S887|Q69652283\n",
      "Q59825238|P180|Q156569|S887|Q69652283\n",
      "Q59825239|P180|Q156569|S887|Q69652283\n",
      "Q59825240|P180|Q156569|S887|Q69652283\n",
      "Q59825241|P180|Q156569|S887|Q69652283\n",
      "Q59825242|P180|Q156569|S887|Q69652283\n",
      "Q59825243|P180|Q156569|S887|Q69652283\n",
      "Q59825245|P180|Q156569|S887|Q69652283\n",
      "Q59825246|P180|Q156569|S887|Q69652283\n",
      "Q59825249|P180|Q156569|S887|Q69652283\n",
      "Q59824297|P180|Q156569|S887|Q69652283\n",
      "Q59824298|P180|Q156569|S887|Q69652283\n",
      "Q59825237|P180|Q156569|S887|Q69652283\n",
      "Q59825238|P180|Q156569|S887|Q69652283\n",
      "Q59825239|P180|Q156569|S887|Q69652283\n",
      "Q59825240|P180|Q156569|S887|Q69652283\n",
      "Q59825241|P180|Q156569|S887|Q69652283\n",
      "Q59825242|P180|Q156569|S887|Q69652283\n",
      "Q59825243|P180|Q156569|S887|Q69652283\n",
      "Q59825245|P180|Q156569|S887|Q69652283\n",
      "Q59825246|P180|Q156569|S887|Q69652283\n",
      "Q59825249|P180|Q156569|S887|Q69652283\n",
      "Q59824297|P180|Q156569|S887|Q69652283\n",
      "Q59824298|P180|Q156569|S887|Q69652283\n",
      "Q59825237|P180|Q156569|S887|Q69652283\n",
      "Q59825238|P180|Q156569|S887|Q69652283\n",
      "Q59825239|P180|Q156569|S887|Q69652283\n",
      "Q59825240|P180|Q156569|S887|Q69652283\n",
      "Q59825241|P180|Q156569|S887|Q69652283\n",
      "Q59825242|P180|Q156569|S887|Q69652283\n",
      "Q59825243|P180|Q156569|S887|Q69652283\n",
      "Q59825245|P180|Q156569|S887|Q69652283\n",
      "Q59825246|P180|Q156569|S887|Q69652283\n",
      "Q59825249|P180|Q156569|S887|Q69652283\n",
      "Q59824297|P180|Q156569|S887|Q69652283\n",
      "Q59824298|P180|Q156569|S887|Q69652283\n",
      "Q59825237|P180|Q156569|S887|Q69652283\n",
      "Q59825238|P180|Q156569|S887|Q69652283\n",
      "Q59825239|P180|Q156569|S887|Q69652283\n",
      "Q59825240|P180|Q156569|S887|Q69652283\n",
      "Q59825241|P180|Q156569|S887|Q69652283\n",
      "Q59825242|P180|Q156569|S887|Q69652283\n",
      "Q59825243|P180|Q156569|S887|Q69652283\n",
      "Q59825245|P180|Q156569|S887|Q69652283\n",
      "Q59825246|P180|Q156569|S887|Q69652283\n",
      "Q59825249|P180|Q156569|S887|Q69652283\n",
      "Q59824649|P180|Q8251823|S887|Q69652283\n",
      "Q59824651|P180|Q3300065|S887|Q69652283\n",
      "Q59824652|P180|Q3279490|S887|Q69652283\n",
      "Q59824658|P180|Q1650700|S887|Q69652283\n",
      "Q59824660|P180|Q1650700|S887|Q69652283\n",
      "Q59824661|P180|Q1650700|S887|Q69652283\n",
      "Q59824658|P180|Q1650700|S887|Q69652283\n",
      "Q59824660|P180|Q1650700|S887|Q69652283\n",
      "Q59824661|P180|Q1650700|S887|Q69652283\n",
      "Q59824658|P180|Q1650700|S887|Q69652283\n",
      "Q59824660|P180|Q1650700|S887|Q69652283\n",
      "Q59824661|P180|Q1650700|S887|Q69652283\n",
      "Q59824665|P180|Q2934367|S887|Q69652283\n",
      "Q59824670|P180|Q161182|S887|Q69652283\n",
      "Q59824673|P180|Q201959|S887|Q69652283\n",
      "Q59824674|P180|Q201959|S887|Q69652283\n",
      "Q59824673|P180|Q201959|S887|Q69652283\n",
      "Q59824674|P180|Q201959|S887|Q69652283\n",
      "Q59824679|P180|Q311083|S887|Q69652283\n",
      "Q59824680|P180|Q311083|S887|Q69652283\n",
      "Q59824679|P180|Q311083|S887|Q69652283\n",
      "Q59824680|P180|Q311083|S887|Q69652283\n",
      "Q59824681|P180|Q135671|S887|Q69652283\n",
      "Q59824683|P180|Q15399290|S887|Q69652283\n",
      "Q59824689|P180|Q537066|S887|Q69652283\n",
      "Q59824692|P180|Q10279910|S887|Q69652283\n",
      "Q59824704|P180|Q5062982|S887|Q69652283\n",
      "Q59824710|P180|Q2105812|S887|Q69652283\n",
      "Q59824716|P180|Q3291604|S887|Q69652283\n",
      "Q59824722|P180|Q8346959|S887|Q69652283\n",
      "Q59824740|P180|Q8349884|S887|Q69652283\n",
      "Q59824743|P180|Q134428|S887|Q69652283\n",
      "Q59824747|P180|Q133082|S887|Q69652283\n",
      "Q59824750|P180|Q2714088|S887|Q69652283\n",
      "Q59824753|P180|Q159309|S887|Q69652283\n",
      "Q59824759|P180|Q214542|S887|Q69652283\n",
      "Q59824762|P180|Q50839468|S887|Q69652283\n",
      "Q59824763|P180|Q519802|S887|Q69652283\n",
      "Q59824764|P180|Q519802|S887|Q69652283\n",
      "Q59824763|P180|Q519802|S887|Q69652283\n",
      "Q59824764|P180|Q519802|S887|Q69652283\n",
      "Q59824767|P180|Q1795637|S887|Q69652283\n",
      "Q59824771|P180|Q5198737|S887|Q69652283\n",
      "Q59824773|P180|Q813606|S887|Q69652283\n",
      "Q59824775|P180|Q155843|S887|Q69652283\n",
      "Q59824779|P180|Q1370281|S887|Q69652283\n",
      "Q59824780|P180|Q49523301|S887|Q69652283\n",
      "Q59824782|P180|Q258623|S887|Q69652283\n",
      "Q59824783|P180|Q258623|S887|Q69652283\n",
      "Q59824782|P180|Q258623|S887|Q69652283\n",
      "Q59824783|P180|Q258623|S887|Q69652283\n",
      "Q59824784|P180|Q2272109|S887|Q69652283\n",
      "Q59824787|P180|Q21220172|S887|Q69652283\n",
      "Q59824793|P180|Q526727|S887|Q69652283\n",
      "Q59824796|P180|Q2144596|S887|Q69652283\n",
      "Q59824797|P180|Q5359423|S887|Q69652283\n",
      "Q59824801|P180|Q2573318|S887|Q69652283\n",
      "Q59824802|P180|Q2703906|S887|Q69652283\n",
      "Q59824299|P180|Q156569|S887|Q69652283\n",
      "Q59824300|P180|Q156569|S887|Q69652283\n",
      "Q59824303|P180|Q156569|S887|Q69652283\n",
      "Q59824304|P180|Q156569|S887|Q69652283\n",
      "Q59824299|P180|Q156569|S887|Q69652283\n",
      "Q59824300|P180|Q156569|S887|Q69652283\n",
      "Q59824303|P180|Q156569|S887|Q69652283\n",
      "Q59824304|P180|Q156569|S887|Q69652283\n",
      "Q59824299|P180|Q156569|S887|Q69652283\n",
      "Q59824300|P180|Q156569|S887|Q69652283\n",
      "Q59824303|P180|Q156569|S887|Q69652283\n",
      "Q59824304|P180|Q156569|S887|Q69652283\n",
      "Q59824299|P180|Q156569|S887|Q69652283\n",
      "Q59824300|P180|Q156569|S887|Q69652283\n",
      "Q59824303|P180|Q156569|S887|Q69652283\n",
      "Q59824304|P180|Q156569|S887|Q69652283\n",
      "Q59824306|P180|Q1280862|S887|Q69652283\n",
      "Q59824308|P180|Q291801|S887|Q69652283\n",
      "Q59824322|P180|Q15365232|S887|Q69652283\n",
      "Q59824323|P180|Q5220377|S887|Q69652283\n",
      "Q59824324|P180|Q2234927|S887|Q69652283\n",
      "Q59824326|P180|Q2234927|S887|Q69652283\n",
      "Q59824324|P180|Q2234927|S887|Q69652283\n",
      "Q59824326|P180|Q2234927|S887|Q69652283\n",
      "Q59824419|P180|Q9077867|S887|Q69652283\n",
      "Q59824420|P180|Q28363681|S887|Q69652283\n",
      "Q59824425|P180|Q146555|S887|Q69652283\n",
      "Q59824426|P180|Q132632|S887|Q69652283\n",
      "Q59824429|P180|Q1148903|S887|Q69652283\n",
      "Q59824431|P180|Q15726706|S887|Q69652283\n",
      "Q59824432|P180|Q15726706|S887|Q69652283\n",
      "Q59824431|P180|Q15726706|S887|Q69652283\n",
      "Q59824432|P180|Q15726706|S887|Q69652283\n",
      "Q59824434|P180|Q311460|S887|Q69652283\n",
      "Q59824437|P180|Q5637764|S887|Q69652283\n",
      "Q59824439|P180|Q904222|S887|Q69652283\n",
      "Q59824442|P180|Q136972|S887|Q69652283\n",
      "Q59824443|P180|Q136972|S887|Q69652283\n",
      "Q59824442|P180|Q136972|S887|Q69652283\n",
      "Q59824443|P180|Q136972|S887|Q69652283\n",
      "Q59824446|P180|Q310915|S887|Q69652283\n",
      "Q59824447|P180|Q310915|S887|Q69652283\n",
      "Q59824449|P180|Q310915|S887|Q69652283\n",
      "Q59824450|P180|Q310915|S887|Q69652283\n",
      "Q59824446|P180|Q310915|S887|Q69652283\n",
      "Q59824447|P180|Q310915|S887|Q69652283\n",
      "Q59824449|P180|Q310915|S887|Q69652283\n",
      "Q59824450|P180|Q310915|S887|Q69652283\n",
      "Q59824446|P180|Q310915|S887|Q69652283\n",
      "Q59824447|P180|Q310915|S887|Q69652283\n",
      "Q59824449|P180|Q310915|S887|Q69652283\n",
      "Q59824450|P180|Q310915|S887|Q69652283\n",
      "Q59824446|P180|Q310915|S887|Q69652283\n",
      "Q59824447|P180|Q310915|S887|Q69652283\n",
      "Q59824449|P180|Q310915|S887|Q69652283\n",
      "Q59824450|P180|Q310915|S887|Q69652283\n",
      "Q59824455|P180|Q2307801|S887|Q69652283\n",
      "Q59824458|P180|Q2708612|S887|Q69652283\n",
      "Q59824472|P180|Q2119788|S887|Q69652283\n",
      "Q59824475|P180|Q156960|S887|Q69652283\n",
      "Q59824477|P180|Q132634|S887|Q69652283\n",
      "Q59824478|P180|Q132634|S887|Q69652283\n",
      "Q59824477|P180|Q132634|S887|Q69652283\n",
      "Q59824478|P180|Q132634|S887|Q69652283\n",
      "Q59824481|P180|Q1310537|S887|Q69652283\n",
      "Q59824483|P180|Q132607|S887|Q69652283\n",
      "Q59824484|P180|Q132607|S887|Q69652283\n",
      "Q59824483|P180|Q132607|S887|Q69652283\n",
      "Q59824484|P180|Q132607|S887|Q69652283\n",
      "Q59824578|P180|Q4713823|S887|Q69652283\n",
      "Q59824583|P180|Q2840398|S887|Q69652283\n",
      "Q59824585|P180|Q155931|S887|Q69652283\n",
      "Q59824586|P180|Q155931|S887|Q69652283\n",
      "Q59824587|P180|Q155931|S887|Q69652283\n",
      "Q59824585|P180|Q155931|S887|Q69652283\n",
      "Q59824586|P180|Q155931|S887|Q69652283\n",
      "Q59824587|P180|Q155931|S887|Q69652283\n",
      "Q59824585|P180|Q155931|S887|Q69652283\n",
      "Q59824586|P180|Q155931|S887|Q69652283\n",
      "Q59824587|P180|Q155931|S887|Q69652283\n",
      "Q59824595|P180|Q156589|S887|Q69652283\n",
      "Q59824597|P180|Q1936078|S887|Q69652283\n",
      "Q59824602|P180|Q15481876|S887|Q69652283\n",
      "Q59824612|P180|Q15933082|S887|Q69652283\n",
      "Q59824614|P180|Q162153|S887|Q69652283\n",
      "Q59824621|P180|Q724502|S887|Q69652283\n",
      "Q59824623|P180|Q135451|S887|Q69652283\n",
      "Q59824635|P180|Q213453|S887|Q69652283\n",
      "Q59824643|P180|Q564650|S887|Q69652283\n",
      "Q59824809|P180|Q1123970|S887|Q69652283\n",
      "Q59824810|P180|Q156584|S887|Q69652283\n",
      "Q59824811|P180|Q156584|S887|Q69652283\n",
      "Q59824812|P180|Q156584|S887|Q69652283\n",
      "Q59824811|P180|Q156584|S887|Q69652283\n",
      "Q59824812|P180|Q156584|S887|Q69652283\n",
      "Q59824885|P180|Q1334912|S887|Q69652283\n",
      "Q59824890|P180|Q142256|S887|Q69652283\n",
      "Q59824911|P180|Q209089|S887|Q69652283\n",
      "Q59824912|P180|Q3307770|S887|Q69652283\n",
      "Q59824916|P180|Q10306640|S887|Q69652283\n",
      "Q59824919|P180|Q5701124|S887|Q69652283\n",
      "Q59824922|P180|Q9003250|S887|Q69652283\n",
      "Q59824942|P180|Q9005413|S887|Q69652283\n",
      "Q59824943|P180|Q2600191|S887|Q69652283\n",
      "Q59825022|P180|Q6468661|S887|Q69652283\n",
      "Q59825027|P180|Q26538|S887|Q69652283\n",
      "Q59825030|P180|Q26538|S887|Q69652283\n",
      "Q59825031|P180|Q26538|S887|Q69652283\n",
      "Q59825027|P180|Q26538|S887|Q69652283\n",
      "Q59825030|P180|Q26538|S887|Q69652283\n",
      "Q59825031|P180|Q26538|S887|Q69652283\n",
      "Q59825027|P180|Q26538|S887|Q69652283\n",
      "Q59825030|P180|Q26538|S887|Q69652283\n",
      "Q59825031|P180|Q26538|S887|Q69652283\n",
      "Q59825035|P180|Q1786738|S887|Q69652283\n",
      "Q59825036|P180|Q1786738|S887|Q69652283\n",
      "Q59825037|P180|Q1786738|S887|Q69652283\n",
      "Q59825038|P180|Q1786738|S887|Q69652283\n",
      "Q59825035|P180|Q1786738|S887|Q69652283\n",
      "Q59825036|P180|Q1786738|S887|Q69652283\n",
      "Q59825037|P180|Q1786738|S887|Q69652283\n",
      "Q59825038|P180|Q1786738|S887|Q69652283\n",
      "Q59825035|P180|Q1786738|S887|Q69652283\n",
      "Q59825036|P180|Q1786738|S887|Q69652283\n",
      "Q59825037|P180|Q1786738|S887|Q69652283\n",
      "Q59825038|P180|Q1786738|S887|Q69652283\n",
      "Q59825035|P180|Q1786738|S887|Q69652283\n",
      "Q59825036|P180|Q1786738|S887|Q69652283\n",
      "Q59825037|P180|Q1786738|S887|Q69652283\n",
      "Q59825038|P180|Q1786738|S887|Q69652283\n",
      "Q59825042|P180|Q135759|S887|Q69652283\n",
      "Q59825055|P180|Q1756340|S887|Q69652283\n",
      "Q59825061|P180|Q632563|S887|Q69652283\n",
      "Q59825071|P180|Q131609|S887|Q69652283\n",
      "Q59825073|P180|Q648380|S887|Q69652283\n",
      "Q59825074|P180|Q648380|S887|Q69652283\n",
      "Q59825076|P180|Q648380|S887|Q69652283\n",
      "Q59825077|P180|Q648380|S887|Q69652283\n",
      "Q59825078|P180|Q648380|S887|Q69652283\n",
      "Q59825082|P180|Q648380|S887|Q69652283\n",
      "Q59825084|P180|Q648380|S887|Q69652283\n",
      "Q59825086|P180|Q648380|S887|Q69652283\n",
      "Q59825073|P180|Q648380|S887|Q69652283\n",
      "Q59825074|P180|Q648380|S887|Q69652283\n",
      "Q59825076|P180|Q648380|S887|Q69652283\n",
      "Q59825077|P180|Q648380|S887|Q69652283\n",
      "Q59825078|P180|Q648380|S887|Q69652283\n",
      "Q59825082|P180|Q648380|S887|Q69652283\n",
      "Q59825084|P180|Q648380|S887|Q69652283\n",
      "Q59825086|P180|Q648380|S887|Q69652283\n",
      "Q59825073|P180|Q648380|S887|Q69652283\n",
      "Q59825074|P180|Q648380|S887|Q69652283\n",
      "Q59825076|P180|Q648380|S887|Q69652283\n",
      "Q59825077|P180|Q648380|S887|Q69652283\n",
      "Q59825078|P180|Q648380|S887|Q69652283\n",
      "Q59825082|P180|Q648380|S887|Q69652283\n",
      "Q59825084|P180|Q648380|S887|Q69652283\n",
      "Q59825086|P180|Q648380|S887|Q69652283\n",
      "Q59825073|P180|Q648380|S887|Q69652283\n",
      "Q59825074|P180|Q648380|S887|Q69652283\n",
      "Q59825076|P180|Q648380|S887|Q69652283\n",
      "Q59825077|P180|Q648380|S887|Q69652283\n",
      "Q59825078|P180|Q648380|S887|Q69652283\n",
      "Q59825082|P180|Q648380|S887|Q69652283\n",
      "Q59825084|P180|Q648380|S887|Q69652283\n",
      "Q59825086|P180|Q648380|S887|Q69652283\n",
      "Q59825073|P180|Q648380|S887|Q69652283\n",
      "Q59825074|P180|Q648380|S887|Q69652283\n",
      "Q59825076|P180|Q648380|S887|Q69652283\n",
      "Q59825077|P180|Q648380|S887|Q69652283\n",
      "Q59825078|P180|Q648380|S887|Q69652283\n",
      "Q59825082|P180|Q648380|S887|Q69652283\n",
      "Q59825084|P180|Q648380|S887|Q69652283\n",
      "Q59825086|P180|Q648380|S887|Q69652283\n",
      "Q59825073|P180|Q648380|S887|Q69652283\n",
      "Q59825074|P180|Q648380|S887|Q69652283\n",
      "Q59825076|P180|Q648380|S887|Q69652283\n",
      "Q59825077|P180|Q648380|S887|Q69652283\n",
      "Q59825078|P180|Q648380|S887|Q69652283\n",
      "Q59825082|P180|Q648380|S887|Q69652283\n",
      "Q59825084|P180|Q648380|S887|Q69652283\n",
      "Q59825086|P180|Q648380|S887|Q69652283\n",
      "Q59825073|P180|Q648380|S887|Q69652283\n",
      "Q59825074|P180|Q648380|S887|Q69652283\n",
      "Q59825076|P180|Q648380|S887|Q69652283\n",
      "Q59825077|P180|Q648380|S887|Q69652283\n",
      "Q59825078|P180|Q648380|S887|Q69652283\n",
      "Q59825082|P180|Q648380|S887|Q69652283\n",
      "Q59825084|P180|Q648380|S887|Q69652283\n",
      "Q59825086|P180|Q648380|S887|Q69652283\n",
      "Q59825073|P180|Q648380|S887|Q69652283\n",
      "Q59825074|P180|Q648380|S887|Q69652283\n",
      "Q59825076|P180|Q648380|S887|Q69652283\n",
      "Q59825077|P180|Q648380|S887|Q69652283\n",
      "Q59825078|P180|Q648380|S887|Q69652283\n",
      "Q59825082|P180|Q648380|S887|Q69652283\n",
      "Q59825084|P180|Q648380|S887|Q69652283\n",
      "Q59825086|P180|Q648380|S887|Q69652283\n",
      "Q59825087|P180|Q138918|S887|Q69652283\n",
      "Q59825106|P180|Q2032773|S887|Q69652283\n",
      "Q59825108|P180|Q1878350|S887|Q69652283\n",
      "Q59825158|P180|Q157378|S887|Q69652283\n",
      "Q59825159|P180|Q3292003|S887|Q69652283\n",
      "Q59825160|P180|Q3292003|S887|Q69652283\n",
      "Q59825159|P180|Q3292003|S887|Q69652283\n",
      "Q59825160|P180|Q3292003|S887|Q69652283\n",
      "Q59825167|P180|Q135404|S887|Q69652283\n",
      "Q59825186|P180|Q131880|S887|Q69652283\n",
      "Q59825193|P180|Q1131849|S887|Q69652283\n",
      "Q59825198|P180|Q156909|S887|Q69652283\n",
      "Q59825199|P180|Q156909|S887|Q69652283\n",
      "Q59825200|P180|Q156909|S887|Q69652283\n",
      "Q59825198|P180|Q156909|S887|Q69652283\n",
      "Q59825199|P180|Q156909|S887|Q69652283\n",
      "Q59825200|P180|Q156909|S887|Q69652283\n",
      "Q59825198|P180|Q156909|S887|Q69652283\n",
      "Q59825199|P180|Q156909|S887|Q69652283\n",
      "Q59825200|P180|Q156909|S887|Q69652283\n",
      "Q59825212|P180|Q157228|S887|Q69652283\n",
      "Q59825214|P180|Q320179|S887|Q69652283\n",
      "Q59825215|P180|Q320179|S887|Q69652283\n",
      "Q59825214|P180|Q320179|S887|Q69652283\n",
      "Q59825215|P180|Q320179|S887|Q69652283\n",
      "Q59825219|P180|Q904250|S887|Q69652283\n",
      "Q59825222|P180|Q7268624|S887|Q69652283\n",
      "Q59825225|P180|Q143783|S887|Q69652283\n"
     ]
    }
   ],
   "source": [
    "for i, row in reconciled.iterrows():\n",
    " \n",
    "    s = row[\"item\"]\n",
    "    p = \"P180\" # depicts\n",
    "    o = row[\"id\"]\n",
    "    ref_p = \"S887\" # based on heuristic\n",
    "    ref_o =  \"Q69652283\" # inferred from title\n",
    "    \n",
    "    print(f\"{s}|{p}|{o}|{ref_p}|{ref_o}\")"
   ]
  },
  {
   "cell_type": "markdown",
   "metadata": {},
   "source": [
    "Added in batch https://quickstatements.toolforge.org/#/batch/44484"
   ]
  }
 ],
 "metadata": {
  "kernelspec": {
   "display_name": "Python 3.6.9 64-bit",
   "language": "python",
   "name": "python36964bitd70dcd0ebb2344189de0a1765c180dbd"
  },
  "language_info": {
   "codemirror_mode": {
    "name": "ipython",
    "version": 3
   },
   "file_extension": ".py",
   "mimetype": "text/x-python",
   "name": "python",
   "nbconvert_exporter": "python",
   "pygments_lexer": "ipython3",
   "version": "3.7.5"
  }
 },
 "nbformat": 4,
 "nbformat_minor": 4
}
