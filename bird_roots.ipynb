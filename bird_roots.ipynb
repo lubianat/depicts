{
 "cells": [
  {
   "cell_type": "code",
   "execution_count": 2,
   "metadata": {},
   "outputs": [],
   "source": [
    "from wikidata2df import wikidata2df\n",
    "import pandas as pd\n",
    "# A SPARQL query to return all cats in Wikidata!\n",
    "\n",
    "cat_query = \"\"\"\n",
    "SELECT ?item ?itemLabel \n",
    "WHERE \n",
    "{\n",
    "  ?item wdt:P361 wd:Q59420290.\n",
    "  SERVICE wikibase:label { bd:serviceParam wikibase:language \"[AUTO_LANGUAGE],en\". }\n",
    "}\n",
    "\"\"\"\n",
    "\n",
    "df = wikidata2df(cat_query) # Returns a Pandas DataFrame"
   ]
  },
  {
   "cell_type": "code",
   "execution_count": 3,
   "metadata": {},
   "outputs": [],
   "source": [
    "# https://medium.com/@sureshssarda/pandas-splitting-exploding-a-column-into-multiple-rows-b1b1d59ea12e\n",
    "new_df = pd.DataFrame(df.itemLabel.str.split(' - ').tolist(), index=df.item).stack()\n",
    "new_df = new_df.reset_index([0, 'item'])\n",
    "new_df.columns = ['item', 'itemLabel']"
   ]
  },
  {
   "cell_type": "code",
   "execution_count": 13,
   "metadata": {},
   "outputs": [
    {
     "name": "stderr",
     "output_type": "stream",
     "text": [
      "100%|██████████| 1/1 [00:00<00:00, 128.38it/s]\n",
      "100%|██████████| 1/1 [00:00<00:00, 122.51it/s]\n",
      "  0%|          | 0/1 [00:00<?, ?it/s]\n",
      "  0%|          | 0/1 [00:00<?, ?it/s]"
     ]
    },
    {
     "name": "stdout",
     "output_type": "stream",
     "text": [
      "         id  match                    name  score   type type_id  \\\n",
      "0  Q1086537   True  Swallow-tailed Cotinga  100.0  taxon  Q16521   \n",
      "\n",
      "              input_value  \n",
      "0  Phibalura flavirostris  \n"
     ]
    },
    {
     "name": "stderr",
     "output_type": "stream",
     "text": [
      "100%|██████████| 1/1 [00:01<00:00,  1.17s/it]\n",
      "  0%|          | 0/1 [00:00<?, ?it/s]"
     ]
    },
    {
     "name": "stdout",
     "output_type": "stream",
     "text": [
      "          id  match            name  score   type type_id     input_value\n",
      "0  Q21305727   True  Turdus orpheus  100.0  taxon  Q16521  Turdus orpheus\n"
     ]
    },
    {
     "name": "stderr",
     "output_type": "stream",
     "text": [
      "100%|██████████| 1/1 [00:01<00:00,  1.03s/it]\n",
      "  0%|          | 0/1 [00:00<?, ?it/s]"
     ]
    },
    {
     "name": "stdout",
     "output_type": "stream",
     "text": [
      "        id  match             name  score   type type_id      input_value\n",
      "0  Q541001   True  Turdus flavipes  100.0  taxon  Q16521  Turdus flavipes\n"
     ]
    },
    {
     "name": "stderr",
     "output_type": "stream",
     "text": [
      "  0%|          | 0/1 [00:01<?, ?it/s]\n",
      "  0%|          | 0/1 [00:01<?, ?it/s]\n",
      "100%|██████████| 1/1 [00:01<00:00,  1.17s/it]\n",
      "  0%|          | 0/1 [00:00<?, ?it/s]"
     ]
    },
    {
     "name": "stdout",
     "output_type": "stream",
     "text": [
      "       id  match          name  score   type type_id  input_value\n",
      "0  Q73459  False  Sitta azurea   78.0  taxon  Q16521  Pica azurea\n"
     ]
    },
    {
     "name": "stderr",
     "output_type": "stream",
     "text": [
      "  0%|          | 0/1 [00:01<?, ?it/s]\n",
      "  0%|          | 0/1 [00:01<?, ?it/s]\n",
      "  0%|          | 0/1 [00:01<?, ?it/s]\n",
      "  0%|          | 0/1 [00:01<?, ?it/s]\n",
      "  0%|          | 0/1 [00:01<?, ?it/s]\n",
      "  0%|          | 0/1 [00:01<?, ?it/s]\n",
      "  0%|          | 0/1 [00:01<?, ?it/s]\n",
      "  0%|          | 0/1 [00:01<?, ?it/s]\n",
      "  0%|          | 0/1 [00:01<?, ?it/s]\n",
      "  0%|          | 0/1 [00:01<?, ?it/s]\n",
      "  0%|          | 0/1 [00:01<?, ?it/s]\n",
      "  0%|          | 0/1 [00:01<?, ?it/s]\n",
      "  0%|          | 0/1 [00:01<?, ?it/s]\n",
      "  0%|          | 0/1 [00:01<?, ?it/s]\n",
      "  0%|          | 0/1 [00:01<?, ?it/s]\n",
      "  0%|          | 0/1 [00:01<?, ?it/s]\n",
      "100%|██████████| 1/1 [00:02<00:00,  2.26s/it]\n",
      "  0%|          | 0/1 [00:00<?, ?it/s]"
     ]
    },
    {
     "name": "stdout",
     "output_type": "stream",
     "text": [
      "        id  match         name  score   type type_id      input_value\n",
      "0  Q376038   True  Toco Toucan  100.0  taxon  Q16521  Ramphastos toco\n"
     ]
    },
    {
     "name": "stderr",
     "output_type": "stream",
     "text": [
      "  0%|          | 0/1 [00:01<?, ?it/s]\n",
      "100%|██████████| 1/1 [00:01<00:00,  1.60s/it]\n",
      "  0%|          | 0/1 [00:00<?, ?it/s]"
     ]
    },
    {
     "name": "stdout",
     "output_type": "stream",
     "text": [
      "        id  match                   name  score   type type_id  \\\n",
      "0  Q906965  False  Silver-beaked Tanager   80.0  taxon  Q16521   \n",
      "\n",
      "          input_value  \n",
      "0  Ramphocelus jacapa  \n"
     ]
    },
    {
     "name": "stderr",
     "output_type": "stream",
     "text": [
      "  0%|          | 0/1 [00:01<?, ?it/s]\n",
      "  0%|          | 0/1 [00:00<?, ?it/s]\n",
      "  0%|          | 0/1 [00:00<?, ?it/s]\n",
      "  0%|          | 0/1 [00:01<?, ?it/s]\n",
      "100%|██████████| 1/1 [00:01<00:00,  1.67s/it]\n",
      "  0%|          | 0/1 [00:00<?, ?it/s]"
     ]
    },
    {
     "name": "stdout",
     "output_type": "stream",
     "text": [
      "        id  match                    name  score   type type_id  \\\n",
      "0  Q938481   True  Bare-throated Bellbird   97.0  taxon  Q16521   \n",
      "\n",
      "          input_value  \n",
      "0  Procnia nudicollis  \n"
     ]
    },
    {
     "name": "stderr",
     "output_type": "stream",
     "text": [
      "  0%|          | 0/1 [00:00<?, ?it/s]\n",
      "  0%|          | 0/1 [00:01<?, ?it/s]\n",
      "  0%|          | 0/1 [00:01<?, ?it/s]\n",
      "  0%|          | 0/1 [00:01<?, ?it/s]\n",
      "  0%|          | 0/1 [00:01<?, ?it/s]\n",
      "100%|██████████| 1/1 [00:03<00:00,  3.19s/it]\n",
      "  0%|          | 0/1 [00:00<?, ?it/s]"
     ]
    },
    {
     "name": "stdout",
     "output_type": "stream",
     "text": [
      "        id  match              name  score   type type_id       input_value\n",
      "0  Q651545   True  American Kestrel  100.0  taxon  Q16521  Falco sparverius\n"
     ]
    },
    {
     "name": "stderr",
     "output_type": "stream",
     "text": [
      "  0%|          | 0/1 [00:01<?, ?it/s]\n",
      "100%|██████████| 1/1 [00:01<00:00,  1.26s/it]\n",
      "  0%|          | 0/1 [00:00<?, ?it/s]"
     ]
    },
    {
     "name": "stdout",
     "output_type": "stream",
     "text": [
      "          id  match                name  score   type type_id  \\\n",
      "0  Q28114429   True  Polyborus chimango  100.0  taxon  Q16521   \n",
      "\n",
      "          input_value  \n",
      "0  Polyborus chimango  \n"
     ]
    },
    {
     "name": "stderr",
     "output_type": "stream",
     "text": [
      "  0%|          | 0/1 [00:01<?, ?it/s]\n",
      "100%|██████████| 1/1 [00:01<00:00,  1.53s/it]\n",
      "  0%|          | 0/1 [00:00<?, ?it/s]"
     ]
    },
    {
     "name": "stdout",
     "output_type": "stream",
     "text": [
      "        id  match               name  score   type type_id         input_value\n",
      "0  Q780340  False  White-necked Hawk   86.0  taxon  Q16521  Buteo lacernulatus\n"
     ]
    },
    {
     "name": "stderr",
     "output_type": "stream",
     "text": [
      "  0%|          | 0/1 [00:01<?, ?it/s]\n",
      "  0%|          | 0/1 [00:01<?, ?it/s]\n",
      "  0%|          | 0/1 [00:01<?, ?it/s]\n",
      "  0%|          | 0/1 [00:00<?, ?it/s]\n",
      "  0%|          | 0/1 [00:00<?, ?it/s]\n",
      "  0%|          | 0/1 [00:01<?, ?it/s]\n",
      "  0%|          | 0/1 [00:01<?, ?it/s]\n",
      "  0%|          | 0/1 [00:01<?, ?it/s]\n",
      "  0%|          | 0/1 [00:01<?, ?it/s]\n",
      "  0%|          | 0/1 [00:00<?, ?it/s]\n",
      "100%|██████████| 1/1 [00:01<00:00,  1.87s/it]\n",
      "  0%|          | 0/1 [00:00<?, ?it/s]"
     ]
    },
    {
     "name": "stdout",
     "output_type": "stream",
     "text": [
      "        id  match                   name  score   type type_id  \\\n",
      "0  Q869376  False  Plum-throated Cotinga   74.0  taxon  Q16521   \n",
      "\n",
      "       input_value  \n",
      "0  Ampelis cotinga  \n"
     ]
    },
    {
     "name": "stderr",
     "output_type": "stream",
     "text": [
      "  0%|          | 0/1 [00:01<?, ?it/s]\n",
      "  0%|          | 0/1 [00:01<?, ?it/s]\n",
      "  0%|          | 0/1 [00:01<?, ?it/s]\n",
      "  0%|          | 0/1 [00:01<?, ?it/s]\n",
      "  0%|          | 0/1 [00:01<?, ?it/s]\n",
      "  0%|          | 0/1 [00:01<?, ?it/s]\n",
      "  0%|          | 0/1 [00:01<?, ?it/s]\n",
      "100%|██████████| 1/1 [00:04<00:00,  4.30s/it]\n",
      "  0%|          | 0/1 [00:00<?, ?it/s]"
     ]
    },
    {
     "name": "stdout",
     "output_type": "stream",
     "text": [
      "        id  match                   name  score   type type_id   input_value\n",
      "0  Q205477   True  Blue-and-yellow Macaw  100.0  taxon  Q16521  Ara ararauna\n"
     ]
    },
    {
     "name": "stderr",
     "output_type": "stream",
     "text": [
      "100%|██████████| 1/1 [00:01<00:00,  1.56s/it]\n",
      "  0%|          | 0/1 [00:00<?, ?it/s]"
     ]
    },
    {
     "name": "stdout",
     "output_type": "stream",
     "text": [
      "        id  match                    name  score   type type_id  input_value\n",
      "0  Q852709   True  Chestnut-fronted Macaw  100.0  taxon  Q16521  Ara severus\n"
     ]
    },
    {
     "name": "stderr",
     "output_type": "stream",
     "text": [
      "100%|██████████| 1/1 [00:01<00:00,  1.72s/it]\n",
      "  0%|          | 0/1 [00:00<?, ?it/s]"
     ]
    },
    {
     "name": "stdout",
     "output_type": "stream",
     "text": [
      "        id  match                        name  score   type type_id  \\\n",
      "0  Q463154  False  Anodorhynchus hyacinthinus   86.0  taxon  Q16521   \n",
      "\n",
      "        input_value  \n",
      "0  Ara hyacinthinus  \n"
     ]
    },
    {
     "name": "stderr",
     "output_type": "stream",
     "text": [
      "  0%|          | 0/1 [00:02<?, ?it/s]\n",
      "  0%|          | 0/1 [00:01<?, ?it/s]\n",
      "  0%|          | 0/1 [00:01<?, ?it/s]\n",
      "  0%|          | 0/1 [00:01<?, ?it/s]\n",
      "  0%|          | 0/1 [00:01<?, ?it/s]\n",
      "  0%|          | 0/1 [00:01<?, ?it/s]\n",
      "  0%|          | 0/1 [00:01<?, ?it/s]\n",
      "  0%|          | 0/1 [00:01<?, ?it/s]\n",
      "  0%|          | 0/1 [00:01<?, ?it/s]\n",
      "  0%|          | 0/1 [00:00<?, ?it/s]\n",
      "  0%|          | 0/1 [00:01<?, ?it/s]\n",
      "  0%|          | 0/1 [00:01<?, ?it/s]\n",
      "100%|██████████| 1/1 [00:01<00:00,  1.84s/it]\n",
      "  0%|          | 0/1 [00:00<?, ?it/s]"
     ]
    },
    {
     "name": "stdout",
     "output_type": "stream",
     "text": [
      "        id  match         name  score   type type_id       input_value\n",
      "0  Q730129   True  Greater Ani  100.0  taxon  Q16521  Crotophaga major\n"
     ]
    },
    {
     "name": "stderr",
     "output_type": "stream",
     "text": [
      "  0%|          | 0/1 [00:01<?, ?it/s]\n",
      "  0%|          | 0/1 [00:01<?, ?it/s]\n"
     ]
    },
    {
     "data": {
      "text/html": [
       "<div>\n",
       "<style scoped>\n",
       "    .dataframe tbody tr th:only-of-type {\n",
       "        vertical-align: middle;\n",
       "    }\n",
       "\n",
       "    .dataframe tbody tr th {\n",
       "        vertical-align: top;\n",
       "    }\n",
       "\n",
       "    .dataframe thead th {\n",
       "        text-align: right;\n",
       "    }\n",
       "</style>\n",
       "<table border=\"1\" class=\"dataframe\">\n",
       "  <thead>\n",
       "    <tr style=\"text-align: right;\">\n",
       "      <th></th>\n",
       "      <th>id</th>\n",
       "      <th>match</th>\n",
       "      <th>name</th>\n",
       "      <th>score</th>\n",
       "      <th>type</th>\n",
       "      <th>type_id</th>\n",
       "      <th>input_value</th>\n",
       "    </tr>\n",
       "  </thead>\n",
       "  <tbody>\n",
       "    <tr>\n",
       "      <th>0</th>\n",
       "      <td>Q1086537</td>\n",
       "      <td>True</td>\n",
       "      <td>Swallow-tailed Cotinga</td>\n",
       "      <td>100.0</td>\n",
       "      <td>taxon</td>\n",
       "      <td>Q16521</td>\n",
       "      <td>Phibalura flavirostris</td>\n",
       "    </tr>\n",
       "    <tr>\n",
       "      <th>0</th>\n",
       "      <td>Q1086537</td>\n",
       "      <td>True</td>\n",
       "      <td>Swallow-tailed Cotinga</td>\n",
       "      <td>100.0</td>\n",
       "      <td>taxon</td>\n",
       "      <td>Q16521</td>\n",
       "      <td>Phibalura flavirostris</td>\n",
       "    </tr>\n",
       "    <tr>\n",
       "      <th>0</th>\n",
       "      <td>Q21305727</td>\n",
       "      <td>True</td>\n",
       "      <td>Turdus orpheus</td>\n",
       "      <td>100.0</td>\n",
       "      <td>taxon</td>\n",
       "      <td>Q16521</td>\n",
       "      <td>Turdus orpheus</td>\n",
       "    </tr>\n",
       "    <tr>\n",
       "      <th>0</th>\n",
       "      <td>Q541001</td>\n",
       "      <td>True</td>\n",
       "      <td>Turdus flavipes</td>\n",
       "      <td>100.0</td>\n",
       "      <td>taxon</td>\n",
       "      <td>Q16521</td>\n",
       "      <td>Turdus flavipes</td>\n",
       "    </tr>\n",
       "    <tr>\n",
       "      <th>0</th>\n",
       "      <td>Q73459</td>\n",
       "      <td>False</td>\n",
       "      <td>Sitta azurea</td>\n",
       "      <td>78.0</td>\n",
       "      <td>taxon</td>\n",
       "      <td>Q16521</td>\n",
       "      <td>Pica azurea</td>\n",
       "    </tr>\n",
       "    <tr>\n",
       "      <th>0</th>\n",
       "      <td>Q376038</td>\n",
       "      <td>True</td>\n",
       "      <td>Toco Toucan</td>\n",
       "      <td>100.0</td>\n",
       "      <td>taxon</td>\n",
       "      <td>Q16521</td>\n",
       "      <td>Ramphastos toco</td>\n",
       "    </tr>\n",
       "    <tr>\n",
       "      <th>0</th>\n",
       "      <td>Q906965</td>\n",
       "      <td>False</td>\n",
       "      <td>Silver-beaked Tanager</td>\n",
       "      <td>80.0</td>\n",
       "      <td>taxon</td>\n",
       "      <td>Q16521</td>\n",
       "      <td>Ramphocelus jacapa</td>\n",
       "    </tr>\n",
       "    <tr>\n",
       "      <th>0</th>\n",
       "      <td>Q938481</td>\n",
       "      <td>True</td>\n",
       "      <td>Bare-throated Bellbird</td>\n",
       "      <td>97.0</td>\n",
       "      <td>taxon</td>\n",
       "      <td>Q16521</td>\n",
       "      <td>Procnia nudicollis</td>\n",
       "    </tr>\n",
       "    <tr>\n",
       "      <th>0</th>\n",
       "      <td>Q651545</td>\n",
       "      <td>True</td>\n",
       "      <td>American Kestrel</td>\n",
       "      <td>100.0</td>\n",
       "      <td>taxon</td>\n",
       "      <td>Q16521</td>\n",
       "      <td>Falco sparverius</td>\n",
       "    </tr>\n",
       "    <tr>\n",
       "      <th>0</th>\n",
       "      <td>Q28114429</td>\n",
       "      <td>True</td>\n",
       "      <td>Polyborus chimango</td>\n",
       "      <td>100.0</td>\n",
       "      <td>taxon</td>\n",
       "      <td>Q16521</td>\n",
       "      <td>Polyborus chimango</td>\n",
       "    </tr>\n",
       "    <tr>\n",
       "      <th>0</th>\n",
       "      <td>Q780340</td>\n",
       "      <td>False</td>\n",
       "      <td>White-necked Hawk</td>\n",
       "      <td>86.0</td>\n",
       "      <td>taxon</td>\n",
       "      <td>Q16521</td>\n",
       "      <td>Buteo lacernulatus</td>\n",
       "    </tr>\n",
       "    <tr>\n",
       "      <th>0</th>\n",
       "      <td>Q869376</td>\n",
       "      <td>False</td>\n",
       "      <td>Plum-throated Cotinga</td>\n",
       "      <td>74.0</td>\n",
       "      <td>taxon</td>\n",
       "      <td>Q16521</td>\n",
       "      <td>Ampelis cotinga</td>\n",
       "    </tr>\n",
       "    <tr>\n",
       "      <th>0</th>\n",
       "      <td>Q205477</td>\n",
       "      <td>True</td>\n",
       "      <td>Blue-and-yellow Macaw</td>\n",
       "      <td>100.0</td>\n",
       "      <td>taxon</td>\n",
       "      <td>Q16521</td>\n",
       "      <td>Ara ararauna</td>\n",
       "    </tr>\n",
       "    <tr>\n",
       "      <th>0</th>\n",
       "      <td>Q852709</td>\n",
       "      <td>True</td>\n",
       "      <td>Chestnut-fronted Macaw</td>\n",
       "      <td>100.0</td>\n",
       "      <td>taxon</td>\n",
       "      <td>Q16521</td>\n",
       "      <td>Ara severus</td>\n",
       "    </tr>\n",
       "    <tr>\n",
       "      <th>0</th>\n",
       "      <td>Q463154</td>\n",
       "      <td>False</td>\n",
       "      <td>Anodorhynchus hyacinthinus</td>\n",
       "      <td>86.0</td>\n",
       "      <td>taxon</td>\n",
       "      <td>Q16521</td>\n",
       "      <td>Ara hyacinthinus</td>\n",
       "    </tr>\n",
       "    <tr>\n",
       "      <th>0</th>\n",
       "      <td>Q730129</td>\n",
       "      <td>True</td>\n",
       "      <td>Greater Ani</td>\n",
       "      <td>100.0</td>\n",
       "      <td>taxon</td>\n",
       "      <td>Q16521</td>\n",
       "      <td>Crotophaga major</td>\n",
       "    </tr>\n",
       "  </tbody>\n",
       "</table>\n",
       "</div>"
      ],
      "text/plain": [
       "          id  match                        name  score   type type_id  \\\n",
       "0   Q1086537   True      Swallow-tailed Cotinga  100.0  taxon  Q16521   \n",
       "0   Q1086537   True      Swallow-tailed Cotinga  100.0  taxon  Q16521   \n",
       "0  Q21305727   True              Turdus orpheus  100.0  taxon  Q16521   \n",
       "0    Q541001   True             Turdus flavipes  100.0  taxon  Q16521   \n",
       "0     Q73459  False                Sitta azurea   78.0  taxon  Q16521   \n",
       "0    Q376038   True                 Toco Toucan  100.0  taxon  Q16521   \n",
       "0    Q906965  False       Silver-beaked Tanager   80.0  taxon  Q16521   \n",
       "0    Q938481   True      Bare-throated Bellbird   97.0  taxon  Q16521   \n",
       "0    Q651545   True            American Kestrel  100.0  taxon  Q16521   \n",
       "0  Q28114429   True          Polyborus chimango  100.0  taxon  Q16521   \n",
       "0    Q780340  False           White-necked Hawk   86.0  taxon  Q16521   \n",
       "0    Q869376  False       Plum-throated Cotinga   74.0  taxon  Q16521   \n",
       "0    Q205477   True       Blue-and-yellow Macaw  100.0  taxon  Q16521   \n",
       "0    Q852709   True      Chestnut-fronted Macaw  100.0  taxon  Q16521   \n",
       "0    Q463154  False  Anodorhynchus hyacinthinus   86.0  taxon  Q16521   \n",
       "0    Q730129   True                 Greater Ani  100.0  taxon  Q16521   \n",
       "\n",
       "              input_value  \n",
       "0  Phibalura flavirostris  \n",
       "0  Phibalura flavirostris  \n",
       "0          Turdus orpheus  \n",
       "0         Turdus flavipes  \n",
       "0             Pica azurea  \n",
       "0         Ramphastos toco  \n",
       "0      Ramphocelus jacapa  \n",
       "0      Procnia nudicollis  \n",
       "0        Falco sparverius  \n",
       "0      Polyborus chimango  \n",
       "0      Buteo lacernulatus  \n",
       "0         Ampelis cotinga  \n",
       "0            Ara ararauna  \n",
       "0             Ara severus  \n",
       "0        Ara hyacinthinus  \n",
       "0        Crotophaga major  "
      ]
     },
     "execution_count": 13,
     "metadata": {},
     "output_type": "execute_result"
    }
   ],
   "source": [
    "from reconciler import reconcile\n",
    "import pandas as pd\n",
    "test = pd.Series([\"Phibalura flavirostris\", \"Querula rubricollis\"])\n",
    "\n",
    "reconciled = reconcile(pd.Series([\"Phibalura flavirostris\"]), type_id=\"Q16521\")\n",
    "\n",
    "for i in new_df[\"itemLabel\"]:\n",
    "    try:\n",
    "        new_recon = reconcile(pd.Series([i]), type_id=\"Q16521\")\n",
    "        print(new_recon)\n",
    "        reconciled = reconciled.append(new_recon)\n",
    "    except:\n",
    "        pass\n",
    "reconciled"
   ]
  },
  {
   "cell_type": "code",
   "execution_count": 21,
   "metadata": {},
   "outputs": [],
   "source": [
    "reconciled = reconciled[reconciled[\"match\"] == True]"
   ]
  },
  {
   "cell_type": "code",
   "execution_count": 25,
   "metadata": {},
   "outputs": [],
   "source": [
    "reconciled = reconciled.merge(new_df,  left_on=\"input_value\", right_on=\"itemLabel\")"
   ]
  },
  {
   "cell_type": "code",
   "execution_count": 27,
   "metadata": {},
   "outputs": [
    {
     "name": "stdout",
     "output_type": "stream",
     "text": [
      "Q59825996|P180|Q1086537|S887|Q69652283\n",
      "Q59825996|P180|Q1086537|S887|Q69652283\n",
      "Q59825996|P180|Q21305727|S887|Q69652283\n",
      "Q59825996|P180|Q541001|S887|Q69652283\n",
      "Q59826180|P180|Q376038|S887|Q69652283\n",
      "Q59826435|P180|Q938481|S887|Q69652283\n",
      "Q59856162|P180|Q651545|S887|Q69652283\n",
      "Q59856162|P180|Q28114429|S887|Q69652283\n",
      "Q59873164|P180|Q205477|S887|Q69652283\n",
      "Q59873164|P180|Q852709|S887|Q69652283\n",
      "Q59873809|P180|Q730129|S887|Q69652283\n"
     ]
    }
   ],
   "source": [
    "for i, row in reconciled.iterrows():\n",
    " \n",
    "    s = row[\"item\"]\n",
    "    p = \"P180\" # depicts\n",
    "    o = row[\"id\"]\n",
    "    ref_p = \"S887\" # based on heuristic\n",
    "    ref_o =  \"Q69652283\" # inferred from title\n",
    "    \n",
    "    print(f\"{s}|{p}|{o}|{ref_p}|{ref_o}\")"
   ]
  },
  {
   "cell_type": "markdown",
   "metadata": {},
   "source": [
    "Added in batch https://quickstatements.toolforge.org/#/batch/44455"
   ]
  }
 ],
 "metadata": {
  "kernelspec": {
   "display_name": "Python 3.6.9 64-bit",
   "language": "python",
   "name": "python36964bitd70dcd0ebb2344189de0a1765c180dbd"
  },
  "language_info": {
   "codemirror_mode": {
    "name": "ipython",
    "version": 3
   },
   "file_extension": ".py",
   "mimetype": "text/x-python",
   "name": "python",
   "nbconvert_exporter": "python",
   "pygments_lexer": "ipython3",
   "version": "3.7.5"
  }
 },
 "nbformat": 4,
 "nbformat_minor": 4
}
